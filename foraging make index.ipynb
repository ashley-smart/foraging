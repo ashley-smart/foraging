{
 "cells": [
  {
   "cell_type": "code",
   "execution_count": 55,
   "metadata": {},
   "outputs": [],
   "source": [
    "import numpy as np\n",
    "import math\n",
    "from math import cos\n",
    "from math import sin\n",
    "import matplotlib\n",
    "import matplotlib.pyplot as plt\n",
    "import matplotlib.patches as patches\n",
    "import csv\n",
    "import os\n",
    "import re\n",
    "from tqdm import tqdm\n",
    "import scipy\n",
    "from scipy import ndimage\n",
    "from scipy.interpolate import interp1d\n",
    "from scipy.ndimage.interpolation import shift\n",
    "#%matplotlib inline\n",
    "from matplotlib import animation, rc\n",
    "from matplotlib.animation import FuncAnimation\n",
    "#from moviepy.editor import *\n",
    "#from PIL import Image\n",
    "#from glob import glob\n",
    "import h5py\n"
   ]
  },
  {
   "cell_type": "code",
   "execution_count": 56,
   "metadata": {},
   "outputs": [],
   "source": [
    "## open foraging h5 files and make an index that has the filename (trial ID) and the condition\n",
    "# trial id: condition\n",
    "# "
   ]
  },
  {
   "cell_type": "code",
   "execution_count": 57,
   "metadata": {},
   "outputs": [],
   "source": [
    "Path_h5 = 'C:/Users/ashsm/Documents/Stanford/timing-analysis/h5_files/'\n",
    "\n",
    "trial_names = []\n",
    "for file in os.listdir(Path_h5):\n",
    "    if \"trial\" in file:\n",
    "        trial_names.append(file)"
   ]
  },
  {
   "cell_type": "code",
   "execution_count": 58,
   "metadata": {},
   "outputs": [
    {
     "name": "stdout",
     "output_type": "stream",
     "text": [
      "['trial-1-20220727-132336.h5', 'trial-1-20220729-164750.h5', 'trial-1-20220801-111140.h5', 'trial-1-20220801-115554.h5', 'trial-1-20220801-135317.h5', 'trial-1-20220805-101342.h5', 'trial-1-20220805-1223.h5', 'trial-1-20220805-122355.h5', 'trial-1-20220805-134118.h5', 'trial-1-20220805-203350.h5', 'trial-1-20220808-114417.h5', 'trial-1-20220808-140616.h5', 'trial-1-20220808-141459.h5', 'trial-1-20220808-153148.h5', 'trial-1-20220809-103810.h5', 'trial-1-20220809-125158.h5', 'trial-1-20220811-113314.h5', 'trial-1-20220811-134702.h5', 'trial-1-20220811-160843.h5', 'trial-1-20220815-104351.h5', 'trial-1-20220815-114713.h5', 'trial-1-20220815-130623.h5', 'trial-10-20220729-221651.h5', 'trial-10-20220805-125403.h5', 'trial-10-20220805-145037.h5', 'trial-10-20220808-131932.h5', 'trial-10-20220809-121552.h5', 'trial-10-20220811-193709.h5', 'trial-10-20220815-11402.h5', 'trial-10-20220815-114025.h5', 'trial-11-20220805-125614.h5', 'trial-11-20220805-145359.h5', 'trial-11-20220808-131958.h5', 'trial-11-20220811-200711.h5', 'trial-12-20220805-131937.h5', 'trial-12-20220805-145527.h5', 'trial-12-20220808-13203.h5', 'trial-12-20220808-132035.h5', 'trial-12-20220811-203713.h5', 'trial-13-20220805-132146.h5', 'trial-13-20220805-150030.h5', 'trial-13-20220808-132110.h5', 'trial-13-20220811-210716.h5', 'trial-14-20220805-132537.h5', 'trial-14-20220808-132218.h5', 'trial-14-20220811-213718.h5', 'trial-15-20220808-132627.h5', 'trial-15-20220811-220720.h5', 'trial-16-20220808-133109.h5', 'trial-16-20220811-223722.h5', 'trial-17-20220808-133658.h5', 'trial-17-20220811-230724.h5', 'trial-18-20220808-134632.h5', 'trial-19-20220808-134922.h5', 'trial-2-20220727-132656.h5', 'trial-2-20220729-164816.h5', 'trial-2-20220801-111744.h5', 'trial-2-20220801-120914.h5', 'trial-2-20220801-135413.h5', 'trial-2-20220805-102440.h5', 'trial-2-20220805-122441.h5', 'trial-2-20220805-135232.h5', 'trial-2-20220808-11451.h5', 'trial-2-20220808-114515.h5', 'trial-2-20220808-141815.h5', 'trial-2-20220808-160231.h5', 'trial-2-20220809-104138.h5', 'trial-2-20220809-131029.h5', 'trial-2-20220811-114737.h5', 'trial-2-20220811-135322.h5', 'trial-2-20220811-161513.h5', 'trial-2-20220815-104422.h5', 'trial-2-20220815-11484.h5', 'trial-2-20220815-114845.h5', 'trial-2-20220815-130828.h5', 'trial-20-20220808-135220.h5', 'trial-21-20220808-140550.h5', 'trial-3-20220727-132838.h5', 'trial-3-20220729-170459.h5', 'trial-3-20220801-112026.h5', 'trial-3-20220801-132951.h5', 'trial-3-20220801-142742.h5', 'trial-3-20220805-103249.h5', 'trial-3-20220805-122508.h5', 'trial-3-20220805-143458.h5', 'trial-3-20220808-120149.h5', 'trial-3-20220808-143540.h5', 'trial-3-20220808-160302.h5', 'trial-3-20220809-104458.h5', 'trial-3-20220809-134057.h5', 'trial-3-20220811-120952.h5', 'trial-3-20220811-135502.h5', 'trial-3-20220811-163224.h5', 'trial-3-20220815-105002.h5', 'trial-3-20220815-114924.h5', 'trial-3-20220815-135011.h5', 'trial-4-20220727-133243.h5', 'trial-4-20220729-173540.h5', 'trial-4-20220801-113634.h5', 'trial-4-20220801-15571.h5', 'trial-4-20220801-155715.h5', 'trial-4-20220805-105221.h5', 'trial-4-20220805-123209.h5', 'trial-4-20220805-143633.h5', 'trial-4-20220808-122141.h5', 'trial-4-20220808-150028.h5', 'trial-4-20220808-163333.h5', 'trial-4-20220809-104520.h5', 'trial-4-20220809-13442.h5', 'trial-4-20220809-134425.h5', 'trial-4-20220811-121702.h5', 'trial-4-20220811-135806.h5', 'trial-4-20220811-163656.h5', 'trial-4-20220815-110034.h5', 'trial-4-20220815-115607.h5', 'trial-4-20220815-150526.h5', 'trial-5-20220727-134631.h5', 'trial-5-20220729-174110.h5', 'trial-5-20220805-10591.h5', 'trial-5-20220805-105915.h5', 'trial-5-20220805-123712.h5', 'trial-5-20220805-143743.h5', 'trial-5-20220808-122227.h5', 'trial-5-20220808-150205.h5', 'trial-5-20220808-204652.h5', 'trial-5-20220809-105647.h5', 'trial-5-20220809-140050.h5', 'trial-5-20220811-134352.h5', 'trial-5-20220811-152956.h5', 'trial-5-20220811-170658.h5', 'trial-5-20220815-111004.h5', 'trial-5-20220815-125616.h5', 'trial-5-20220815-15472.h5', 'trial-5-20220815-154725.h5', 'trial-6-20220727-141730.h5', 'trial-6-20220729-181503.h5', 'trial-6-20220805-110716.h5', 'trial-6-20220805-12410.h5', 'trial-6-20220805-124105.h5', 'trial-6-20220805-144046.h5', 'trial-6-20220808-122646.h5', 'trial-6-20220808-211427.h5', 'trial-6-20220809-112710.h5', 'trial-6-20220809-143838.h5', 'trial-6-20220811-1542.h5', 'trial-6-20220811-154255.h5', 'trial-6-20220811-173701.h5', 'trial-6-20220815-112104.h5', 'trial-6-20220815-130122.h5', 'trial-6-20220815-16122.h5', 'trial-6-20220815-161225.h5', 'trial-7-20220727-160753.h5', 'trial-7-20220729-182819.h5', 'trial-7-20220805-111824.h5', 'trial-7-20220805-124316.h5', 'trial-7-20220805-144152.h5', 'trial-7-20220808-123501.h5', 'trial-7-20220808-232837.h5', 'trial-7-20220809-112855.h5', 'trial-7-20220809-144043.h5', 'trial-7-20220811-154540.h5', 'trial-7-20220811-180703.h5', 'trial-7-20220815-11283.h5', 'trial-7-20220815-112835.h5', 'trial-8-20220729-1906.h5', 'trial-8-20220729-190655.h5', 'trial-8-20220805-112831.h5', 'trial-8-20220805-124720.h5', 'trial-8-20220805-144514.h5', 'trial-8-20220808-123553.h5', 'trial-8-20220809-113234.h5', 'trial-8-20220809-144451.h5', 'trial-8-20220811-154910.h5', 'trial-8-20220811-18370.h5', 'trial-8-20220811-183705.h5', 'trial-8-20220815-113037.h5', 'trial-9-20220729-201637.h5', 'trial-9-20220805-125127.h5', 'trial-9-20220805-144710.h5', 'trial-9-20220808-131510.h5', 'trial-9-20220809-114015.h5', 'trial-9-20220809-215721.h5', 'trial-9-20220811-190707.h5', 'trial-9-20220815-11353.h5', 'trial-9-20220815-113535.h5']\n"
     ]
    }
   ],
   "source": [
    "print(trial_names)"
   ]
  },
  {
   "cell_type": "code",
   "execution_count": 59,
   "metadata": {},
   "outputs": [
    {
     "name": "stdout",
     "output_type": "stream",
     "text": [
      "Issue: condition: no opto (set to 0 foodspots) does not match metadata 20 for trial: trial-1-20220811-113314.h5\n",
      "OK-no opto\n",
      "Issue: condition: no opto (0 foodspots) does not match metadata 40 for trial: trial-1-20220815-114713.h5\n",
      "OK-no opto\n",
      "Issue: condition: no opto (set to 0 foodspots) does not match metadata 20 for trial: trial-2-20220811-114737.h5\n",
      "OK-no opto\n",
      "Issue: condition: no opto (0 foodspots) does not match metadata 40 for trial: trial-2-20220815-114845.h5\n",
      "OK-no opto\n",
      "Issue: condition: no opto (set to 0 foodspots) does not match metadata 20 for trial: trial-3-20220811-120952.h5\n",
      "OK-no opto\n",
      "Issue: condition: no opto (0 foodspots) does not match metadata 40 for trial: trial-3-20220815-114924.h5\n",
      "OK-no opto\n",
      "Issue: condition: no opto (set to 0 foodspots) does not match metadata 20 for trial: trial-4-20220811-121702.h5\n",
      "OK-no opto\n",
      "Issue: condition: no opto (0 foodspots) does not match metadata 40 for trial: trial-4-20220815-115607.h5\n",
      "OK-no opto\n",
      "Issue: condition: no opto (set to 0 foodspots) does not match metadata 20 for trial: trial-5-20220811-134352.h5\n",
      "OK-no opto\n",
      "Issue: condition: no opto (0 foodspots) does not match metadata 40 for trial: trial-5-20220815-125616.h5\n",
      "OK-no opto\n",
      "Issue: condition: no opto (0 foodspots) does not match metadata 40 for trial: trial-6-20220815-130122.h5\n",
      "OK-no opto\n"
     ]
    }
   ],
   "source": [
    "index_condition = {}\n",
    "index_genotype = {}\n",
    "for trial in trial_names:\n",
    "    path = os.path.join(Path_h5, trial)\n",
    "    with h5py.File(path, 'r') as hf: \n",
    "       ##get rid of trials that don't have data here\n",
    "        if \"x raw\" in hf.keys() and hf['x raw'][()] is not None:\n",
    "            if \"condition\" in hf.keys():\n",
    "                condition = hf['condition'][()]  ##need this [()] to return as nparray instead of h5 obj\n",
    "                #print(condition)\n",
    "                index_condition[trial.strip(\".h5\")] = condition\n",
    "            if 'genotype' in hf.keys():\n",
    "                genotype = hf['genotype'][()]\n",
    "                index_genotype[trial.strip(\".h5\")] = genotype\n",
    "            if 'min off time (s)' in hf.keys():\n",
    "                min_off = hf['min off time (s)'][()]\n",
    "                #print(min_off)\n",
    "                #check that min_off matches condition if min_off exists  \n",
    "                if min_off in condition:\n",
    "                    #print(hf['opto x'][()])\n",
    "                    continue\n",
    "                    #print('ok')\n",
    "\n",
    "                else:\n",
    "                    print(f\"Issue: condition: {condition} does not match metadata {min_off} for trial: {trial}\")\n",
    "                    ##its ok if the conditions don't match for no opto because if 0 foodspots is selected then the min off doesn't matter\n",
    "    #               ## annoyingly I don't store # foodspots in metadata (though I should)\n",
    "                    #I can check based on opto if necessary\n",
    "                    opto_x = hf['opto x'][()]\n",
    "                    if len(opto_x) == 0:\n",
    "                        print(\"OK-no opto\")\n",
    "                    else:\n",
    "                        print(\"BIG PROBLEM ASHLEY\")\n",
    "                        print(\"condition does not match metadata and it is not 'no opto'\")\n",
    "                "
   ]
  },
  {
   "cell_type": "code",
   "execution_count": 60,
   "metadata": {},
   "outputs": [
    {
     "name": "stdout",
     "output_type": "stream",
     "text": [
      "{'20s laser', '20s laser opto 1s off', '40s off 1s on ', '20s opto laser', '40s opto laser', '20s opto no center req, light on for 1s', '40s laser opto 1s off', '40s off 1s on', 'no opto (0 foodspots)', 'no opto (set to 0 foodspots)', '40s laser', '20s laser opto'}\n",
      "{'gr5a/+chrimson/+', 'ISOD1', 'gr5a/+;chrimson/+', 'gr5a/+'}\n"
     ]
    }
   ],
   "source": [
    "all_conditions = []\n",
    "all_genotypes = []\n",
    "for item in index_condition:\n",
    "    #print(item)\n",
    "    #print(index_dict.keys())\n",
    "    #print(index_dict[item])\n",
    "    all_conditions.append(index_condition[item])\n",
    "    all_genotypes.append(index_genotype[item])  #this will get weird if there is a case that there is a condition specified but not a genoytype\n",
    "individual_conditions = set(all_conditions) #get rid of duplicates\n",
    "individual_genotypes = set(all_genotypes)\n",
    "print(individual_conditions)\n",
    "print(individual_genotypes)"
   ]
  },
  {
   "cell_type": "code",
   "execution_count": 61,
   "metadata": {},
   "outputs": [
    {
     "name": "stdout",
     "output_type": "stream",
     "text": [
      "{'20s laser', '20s laser opto 1s off', '40s off 1s on ', '20s opto laser', '40s opto laser', '20s opto no center req, light on for 1s', '40s laser opto 1s off', '40s off 1s on', 'no opto (0 foodspots)', 'no opto (set to 0 foodspots)', '40s laser', '20s laser opto'}\n"
     ]
    }
   ],
   "source": [
    "print(individual_conditions)\n",
    "## essentally 3 conditions (20s, 40s, no opto)\n"
   ]
  },
  {
   "cell_type": "code",
   "execution_count": null,
   "metadata": {},
   "outputs": [],
   "source": []
  },
  {
   "cell_type": "code",
   "execution_count": 131,
   "metadata": {},
   "outputs": [
    {
     "name": "stdout",
     "output_type": "stream",
     "text": [
      "40- 68\n",
      "20- 51\n",
      "no opto- 11\n",
      "iso- 30\n",
      "gr control- 40\n",
      "exp gen- 60\n",
      "iso 40- 22\n",
      "iso 20- 8\n",
      "iso none- 0\n",
      "exp 20- 18\n",
      "exp 40- 36\n",
      "exp none- 6\n",
      "all control 40- 32\n",
      "all control 20- 33\n",
      "all control none- 5\n"
     ]
    }
   ],
   "source": [
    "###turn this into a dictionary later for faster lookup in rest of code\n",
    "\n",
    "##sort the index lists to get specific lists of trials to look at\n",
    "trials_40s = []\n",
    "trials_20s = []\n",
    "trials_no_opto = []\n",
    "for trial in index_condition:\n",
    "    if \"40s\" in index_condition[trial]:\n",
    "        #then it is 40s\n",
    "        trials_40s.append(trial)\n",
    "    elif \"20s\" in index_condition[trial]:\n",
    "        #then it is 40s\n",
    "        trials_20s.append(trial)\n",
    "    elif \"no opto\" in index_condition[trial]:\n",
    "        #then it is 40s\n",
    "        trials_no_opto.append(trial)\n",
    "    \n",
    "trials_ISOD1 = []\n",
    "trials_gr5a_control = [] # only gr5a\n",
    "trials_gr5a_chrimson = []\n",
    "for trial in index_genotype:\n",
    "    if 'gr5a' in index_genotype[trial] and 'chrimson' in index_genotype[trial]:\n",
    "        trials_gr5a_chrimson.append(trial)\n",
    "    elif 'gr5a/+' in index_genotype[trial] and 'chrimson' not in index_genotype[trial]:\n",
    "        trials_gr5a_control.append(trial)\n",
    "    elif 'ISOD1' in index_genotype[trial]:\n",
    "        trials_ISOD1.append(trial)\n",
    "\n",
    "##get specific lists of trials for different conditions\n",
    "##Really feels like there should be a better way to do this...\n",
    "\n",
    "print('40-', len(trials_40s))\n",
    "print('20-', len(trials_20s))\n",
    "print('no opto-', len(trials_no_opto))\n",
    "print('iso-', len(trials_ISOD1))\n",
    "print('gr control-', len(trials_gr5a_control))\n",
    "print('exp gen-', len(trials_gr5a_chrimson))\n",
    "\n",
    "trials_iso_40 = []\n",
    "trials_iso_20 = []\n",
    "trials_iso_none = []\n",
    "trials_exp_40 = []\n",
    "trials_exp_20 = []\n",
    "trials_exp_none = []\n",
    "trials_gr_control_40 = []\n",
    "trials_gr_control_20 = []\n",
    "trials_gr_control_none = []\n",
    "##merge iso and gr\n",
    "trials_control_40 = []\n",
    "trials_control_20 = []\n",
    "trials_control_none = []\n",
    "\n",
    "for trial in index_genotype:\n",
    "    if trial in trials_ISOD1:\n",
    "        if trial in trials_40s:\n",
    "            trials_iso_40.append(trial)\n",
    "            trials_control_40.append(trial)\n",
    "        elif trial in trials_20s:\n",
    "            trials_iso_20.append(trial)\n",
    "            trials_control_20.append(trial)\n",
    "        elif trial in trials_no_opto:\n",
    "            trials_iso_none.append(trial)\n",
    "            trials_control_none.append(trial)\n",
    "    elif trial in trials_gr5a_control:\n",
    "        if trial in trials_40s:\n",
    "            trials_gr_control_40.append(trial)\n",
    "            trials_control_40.append(trial)\n",
    "        elif trial in trials_20s:\n",
    "            trials_gr_control_20.append(trial)\n",
    "            trials_control_20.append(trial)\n",
    "        elif trial in trials_no_opto:\n",
    "            trials_gr_control_none.append(trial)\n",
    "            trials_control_none.append(trial)\n",
    "    elif trial in trials_gr5a_chrimson:\n",
    "        if trial in trials_40s:\n",
    "            trials_exp_40.append(trial)\n",
    "        elif trial in trials_20s:\n",
    "            trials_exp_20.append(trial)\n",
    "        elif trial in trials_no_opto:\n",
    "            trials_exp_none.append(trial)\n",
    "\n",
    "print('iso 40-', len(trials_iso_40))\n",
    "print('iso 20-', len(trials_iso_20))\n",
    "print('iso none-', len(trials_iso_none))\n",
    "print('exp 20-', len(trials_exp_20))\n",
    "print('exp 40-', len(trials_exp_40))\n",
    "print('exp none-', len(trials_exp_none))\n",
    "print('all control 40-', len(trials_control_40))\n",
    "print('all control 20-', len(trials_control_20))\n",
    "print('all control none-', len(trials_control_none))"
   ]
  },
  {
   "cell_type": "code",
   "execution_count": null,
   "metadata": {},
   "outputs": [],
   "source": []
  },
  {
   "cell_type": "code",
   "execution_count": 63,
   "metadata": {},
   "outputs": [],
   "source": [
    "##open h5 files and plot\n",
    "#consider also presorting no data expts\n",
    "\n",
    "## places with trials for plotting \n",
    "# trials_exp_40\n",
    "# trials_exp_20\n",
    "# trials_exp_none\n",
    "# ##merge iso and gr\n",
    "# trials_control_40\n",
    "# trials_control_20\n",
    "# trials_control_none"
   ]
  },
  {
   "cell_type": "code",
   "execution_count": 66,
   "metadata": {},
   "outputs": [],
   "source": [
    "# #print potential keys to use for functions\n",
    "# with h5py.File(Path, 'a') as f:\n",
    "#     a = list(f.keys())\n",
    "#     print(a)\n",
    "#     print(f['food radius (mm)'][()])\n",
    "\n",
    "# #testing functions \n",
    "\n",
    "# trial = trials_control_20[0]\n",
    "# Path = os.path.join(Path_h5, trial + '.h5')\n",
    "# total_time_in_foodspot, min_distance, foodspot_avg_dist, total_foodspots = get_foodspot_parameters(Path)\n",
    "# print(total_time_in_foodspot)\n"
   ]
  },
  {
   "cell_type": "code",
   "execution_count": 238,
   "metadata": {},
   "outputs": [
    {
     "name": "stdout",
     "output_type": "stream",
     "text": [
      "[ 5.53  3.38  4.49 23.54  4.66  2.3   3.98  5.5   1.32  1.66  3.22  4.18\n",
      "  1.12  1.25 18.61  2.49  2.34]\n",
      "[35.17  1.06  1.08 13.15  0.4  17.48]\n",
      "[ 7.5   4.68  8.18 30.73 38.63  4.79]\n",
      "None\n",
      "None\n",
      "None\n",
      "None\n",
      "None\n",
      "None\n",
      "None\n",
      "[1094.72   16.04   13.67   31.66   22.67    2.98   19.49    7.75   36.21\n",
      "    9.2     6.86   33.72   26.2    10.36   23.02   35.14    6.03   11.11\n",
      "   23.55    7.06    6.02   25.63    9.28   12.24   24.8    38.2     6.1\n",
      "    7.53   13.61   34.45   25.64   19.35   39.6    10.97   25.98   47.1\n",
      "   11.41   44.02   35.96   24.29    4.08    5.  ]\n",
      "[22.44 21.45  6.17  5.28 15.76  7.1   9.34  3.47  1.22  0.98  4.09 55.46\n",
      "  6.66 15.53  3.31  0.91]\n",
      "None\n",
      "[19.79  9.65  3.29 23.56 10.38  9.73 71.53 37.83  3.85  4.62  3.24]\n",
      "[ 2.83 11.11  3.95]\n",
      "[ 1.92  9.6  11.42]\n",
      "[ 4.6  41.77 11.57 91.04  4.   66.51 27.12  0.33]\n",
      "[ 1.66  1.5   8.07 15.87  3.19  5.96]\n",
      "[1.31 1.03 5.14 4.7  1.37]\n",
      "None\n",
      "None\n",
      "[ 0.85  1.79  0.82  1.08  5.36  1.53  1.82 16.01  0.71  3.21  0.92  1.14\n",
      "  0.79  0.99]\n",
      "None\n",
      "[ 3.41  6.58 18.41  8.8   2.84 30.19 17.63  4.93  7.69  8.34 24.94 12.93\n",
      "  3.71]\n",
      "None\n",
      "None\n",
      "[ 4.42  6.    6.81  8.54  1.13  1.06 18.25 12.68  1.13  0.84  2.17 13.13\n",
      "  9.5   0.87  7.06  2.77  0.78  3.21 19.8 ]\n",
      "[74.06  1.06  1.33 37.88]\n",
      "None\n",
      "[ 2.5   4.41  3.93  0.78  0.73 22.94  2.95 18.07 25.05 21.68  0.68  1.01\n",
      "  0.62  0.67 38.71  1.05  0.97]\n",
      "[  5.78   1.97  10.92  75.51 380.58  14.9  135.84   9.59   1.21  50.3\n",
      " 205.68]\n",
      "None\n",
      "None\n"
     ]
    }
   ],
   "source": [
    "## get number of foodspots\n",
    "# get_total_foodspots\n",
    "num_foodspots_20c = []\n",
    "for trial in trials_control_20:\n",
    "    Path = os.path.join(Path_h5, trial + '.h5')\n",
    "    num_foodspots_20c.append(get_total_foodspots(Path, 'y'))\n",
    "num_foodspots_20e = []\n",
    "for trial in trials_exp_20:\n",
    "    Path = os.path.join(Path_h5, trial + '.h5')\n",
    "    num_foodspots_20e.append(get_total_foodspots(Path, 'y'))\n",
    "num_foodspots_40c = []\n",
    "for trial in trials_control_40:\n",
    "    Path = os.path.join(Path_h5, trial + '.h5')\n",
    "    num_foodspots_40c.append(get_total_foodspots(Path, 'y'))\n",
    "num_foodspots_40e = []\n",
    "for trial in trials_exp_40:\n",
    "    Path = os.path.join(Path_h5, trial + '.h5')\n",
    "    num_foodspots_40e.append(get_total_foodspots(Path, 'y'))\n",
    "\n",
    "#get_total_time_in_foodspots\n",
    "mean_time_foodspots_20c = []\n",
    "for trial in trials_control_20:\n",
    "    Path = os.path.join(Path_h5, trial + '.h5')\n",
    "    each_time_foodspots = get_total_time_in_foodspots(Path, 'y')\n",
    "    print(each_time_foodspots)\n",
    "    if each_time_foodspots is not None and len(each_time_foodspots) > 1:\n",
    "        mean_time_foodspots_20c.append(np.mean(each_time_foodspots))\n",
    "mean_time_foodspots_20e = []\n",
    "for trial in trials_exp_20:\n",
    "    Path = os.path.join(Path_h5, trial + '.h5')\n",
    "    each_time_foodspots = get_total_time_in_foodspots(Path, 'y')\n",
    "    if each_time_foodspots is not None and len(each_time_foodspots) > 1:\n",
    "        mean_time_foodspots_20e.append(np.mean(each_time_foodspots))\n",
    "mean_time_foodspots_40c = []\n",
    "for trial in trials_control_40:\n",
    "    Path = os.path.join(Path_h5, trial + '.h5')\n",
    "    each_time_foodspots = get_total_time_in_foodspots(Path, 'y')\n",
    "    if each_time_foodspots is not None and len(each_time_foodspots) > 1:\n",
    "        mean_time_foodspots_40c.append(np.mean(each_time_foodspots))\n",
    "mean_time_foodspots_40e = []\n",
    "for trial in trials_exp_40:\n",
    "    Path = os.path.join(Path_h5, trial + '.h5')\n",
    "    each_time_foodspots = get_total_time_in_foodspots(Path, 'y')\n",
    "    if each_time_foodspots is not None and len(each_time_foodspots) > 1:\n",
    "        mean_time_foodspots_40e.append(np.mean(each_time_foodspots))\n",
    "                    \n",
    "                                                          "
   ]
  },
  {
   "cell_type": "code",
   "execution_count": 251,
   "metadata": {},
   "outputs": [],
   "source": [
    "def run_on_all_trials(Path_h5, trials, function, quiet = 'y'):\n",
    "    \"\"\"takes path to h5 files and trial name list and builds path to individual trials \n",
    "    then runs specified function over them and appends to a list that is returned\"\"\"\n",
    "    data_list = []\n",
    "    for trial in trials:\n",
    "        Path = os.path.join(Path_h5, trial + '.h5')\n",
    "        data_list.append(function(Path, 'y'))\n",
    "    return data_list\n",
    "    "
   ]
  },
  {
   "cell_type": "code",
   "execution_count": 252,
   "metadata": {},
   "outputs": [],
   "source": [
    "def run_on_all_trials_mean(Path_h5, trials, function, quiet = 'y'):\n",
    "    \"\"\"takes path to h5 files and trial name list and builds path to individual trials \n",
    "    then runs specified function over them and appends to a list that is returned\n",
    "    calculates the mean for each trial and appends that\"\"\"\n",
    "    data_list = []\n",
    "    for trial in trials:\n",
    "        Path = os.path.join(Path_h5, trial + '.h5')\n",
    "        data_list.append(np.nanmean(function(Path, 'y'), dtype=np.float64))\n",
    "    return data_list\n",
    "    "
   ]
  },
  {
   "cell_type": "code",
   "execution_count": 239,
   "metadata": {},
   "outputs": [
    {
     "data": {
      "image/png": "[encoded data removed]",
      "text/plain": [
       "<Figure size 432x288 with 1 Axes>"
      ]
     },
     "metadata": {
      "needs_background": "light"
     },
     "output_type": "display_data"
    },
    {
     "data": {
      "image/png": "[encoded data removed]",
      "text/plain": [
       "<Figure size 432x288 with 1 Axes>"
      ]
     },
     "metadata": {
      "needs_background": "light"
     },
     "output_type": "display_data"
    }
   ],
   "source": [
    "##plot foodspot parameters\n",
    "##foodspot number\n",
    "scatter_plot_conditions(num_foodspots_20c, num_foodspots_20e, num_foodspots_40c, num_foodspots_40e) \n",
    "bar_plot_conditions(num_foodspots_20c, num_foodspots_20e, num_foodspots_40c, num_foodspots_40e) \n",
    "plt.title('total foodspot visits \\n error = std \\n exp = gr5a;chrimson and cont = isod1 or gr5a/+')\n",
    "plt.ylabel('number foodspots')\n",
    "x = [0,1,2,3]\n",
    "my_xticks = ['20s cont', '20s exp', '40s cont', '40s exp'] \n",
    "plt.xticks(x, my_xticks)\n",
    "plt.show()\n",
    "\n",
    "\n",
    "\n",
    "##plot foodspot mean time\n",
    "scatter_plot_conditions(mean_time_foodspots_20c, mean_time_foodspots_20e, mean_time_foodspots_40c, mean_time_foodspots_40e) \n",
    "bar_plot_conditions(mean_time_foodspots_20c, mean_time_foodspots_20e, mean_time_foodspots_40c, mean_time_foodspots_40e) \n",
    "plt.title('mean time in foodspots \\n error = std \\n exp = gr5a;chrimson and cont = isod1 or gr5a/+')\n",
    "plt.ylabel('time (s)')\n",
    "x = [0,1,2,3,]\n",
    "my_xticks = ['20s cont', '20s exp', '40s cont', '40s exp'] \n",
    "plt.xticks(x, my_xticks)\n",
    "plt.show()"
   ]
  },
  {
   "cell_type": "code",
   "execution_count": 96,
   "metadata": {
    "scrolled": true
   },
   "outputs": [],
   "source": [
    "# ## getting foodspot data and plotting total time in foodspot\n",
    "# #rewrite this with new smaller functions \n",
    "\n",
    "# all_control_spots_20 = []\n",
    "# all_control_num_foodspots_20 = []\n",
    "# for trial in trials_control_20:\n",
    "#     Path = os.path.join(Path_h5, trial + '.h5')\n",
    "#     total_time_in_foodspot, b, c, total_foodspots = get_foodspot_parameters(Path, quiet = 'y')\n",
    "#     if total_foodspots is not None:\n",
    "#         all_control_num_foodspots_20.append(total_foodspots)\n",
    "#     if total_time_in_foodspot is not None and len(total_time_in_foodspot) > 1: #req more than one foodspot\n",
    "#         jitter = np.random.rand(1)/2\n",
    "#         plt.scatter(jitter - .25, np.mean(total_time_in_foodspot), color = 'blue', alpha = .5)\n",
    "#         all_control_spots_20.append(np.mean(total_time_in_foodspot))\n",
    "# all_exp_spots_20 = []\n",
    "# all_exp_num_foodspots_20 = []\n",
    "# for trial in trials_exp_20:\n",
    "#     Path = os.path.join(Path_h5, trial + '.h5')\n",
    "#     total_time_in_foodspot, b, c, total_foodspots = get_foodspot_parameters(Path, quiet = 'y')\n",
    "#     if total_foodspots is not None:\n",
    "#         all_exp_num_foodspots_20.append(total_foodspots)\n",
    "#     if total_time_in_foodspot is not None and len(total_time_in_foodspot) > 1:\n",
    "#         jitter = np.random.rand(1)/2\n",
    "#         plt.scatter(jitter + .75, np.mean(total_time_in_foodspot), color = 'red', alpha = .5)\n",
    "#         all_exp_spots_20.append(np.mean(total_time_in_foodspot))\n",
    "# all_control_spots_40 = []\n",
    "# all_control_num_foodspots_40 = []\n",
    "# for trial in trials_control_40:\n",
    "#     Path = os.path.join(Path_h5, trial + '.h5')\n",
    "#     total_time_in_foodspot, b, c, total_foodspots = get_foodspot_parameters(Path, quiet = 'y')\n",
    "#     if total_foodspots is not None:\n",
    "#         all_control_num_foodspots_40.append(total_foodspots)\n",
    "#     if total_time_in_foodspot is not None and len(total_time_in_foodspot) > 1: #req more than one foodspot\n",
    "#         jitter = np.random.rand(1)/2\n",
    "#         plt.scatter(jitter + 1.75, np.mean(total_time_in_foodspot), color = 'blue', alpha = .5)\n",
    "#         all_control_spots_40.append(np.mean(total_time_in_foodspot))\n",
    "# all_exp_spots_40 = []\n",
    "# all_exp_num_foodspots_40 = []\n",
    "# for trial in trials_exp_40:\n",
    "#     Path = os.path.join(Path_h5, trial + '.h5')\n",
    "#     total_time_in_foodspot, b, c, total_foodspots = get_foodspot_parameters(Path, quiet = 'y')\n",
    "#     if total_foodspots is not None:\n",
    "#         all_exp_num_foodspots_40.append(total_foodspots)\n",
    "#     if total_time_in_foodspot is not None and len(total_time_in_foodspot) > 1:\n",
    "#         jitter = np.random.rand(1)/2\n",
    "#         plt.scatter(jitter + 2.75, np.mean(total_time_in_foodspot), color = 'red', alpha = .5)\n",
    "#         all_exp_spots_40.append(np.mean(total_time_in_foodspot))\n",
    "# plt.bar(0, np.mean(all_control_spots_20), yerr = np.std(all_control_spots_20), alpha = .25, color = 'teal')\n",
    "# plt.bar(1, np.mean(all_exp_spots_20), yerr = np.std(all_exp_spots_20), alpha = .25, color = 'orange')\n",
    "# plt.bar(2, np.mean(all_control_spots_40), yerr = np.std(all_control_spots_40), alpha = .25, color = 'teal')\n",
    "# plt.bar(3, np.mean(all_exp_spots_40), yerr = np.std(all_exp_spots_40), alpha = .25, color = 'orange')\n",
    "# #plt.ylim(0,250)\n",
    "# plt.title(\"total time in foodspots \\n error = std \\n more than one foodspot visit required\")\n",
    "# plt.ylabel('time (s)')\n",
    "# x = [0,1,2,3]\n",
    "# my_xticks = ['20s cont', '20s exp', '40s cont', '40s exp'] \n",
    "# plt.xticks(x, my_xticks)\n",
    "\n",
    "# plt.show()\n",
    "    "
   ]
  },
  {
   "cell_type": "code",
   "execution_count": null,
   "metadata": {},
   "outputs": [],
   "source": [
    "##average time in foodspots plot\n"
   ]
  },
  {
   "cell_type": "code",
   "execution_count": 240,
   "metadata": {},
   "outputs": [],
   "source": [
    "## get average experiment length for each condition\n",
    "\n",
    "all_exp_length_20c = []\n",
    "for trial in trials_control_20:\n",
    "    Path = os.path.join(Path_h5, trial + '.h5')\n",
    "    experiment_length = get_experiment_length(Path, quiet = 'y')\n",
    "    all_exp_length_20c.append(experiment_length)\n",
    "    \n",
    "all_exp_length_20e = []\n",
    "for trial in trials_exp_20:\n",
    "    Path = os.path.join(Path_h5, trial + '.h5')\n",
    "    experiment_length = get_experiment_length(Path, quiet = 'y')\n",
    "    all_exp_length_20e.append(experiment_length)\n",
    "    \n",
    "all_exp_length_40c = []\n",
    "for trial in trials_control_40:\n",
    "    Path = os.path.join(Path_h5, trial + '.h5')\n",
    "    experiment_length = get_experiment_length(Path, quiet = 'y')\n",
    "    all_exp_length_40c.append(experiment_length)\n",
    "    \n",
    "all_exp_length_40e = []\n",
    "for trial in trials_exp_40:\n",
    "    Path = os.path.join(Path_h5, trial + '.h5')\n",
    "    experiment_length = get_experiment_length(Path, quiet = 'y')\n",
    "    all_exp_length_40e.append(experiment_length)\n",
    "\n",
    "all_exp_length_0c = []\n",
    "for trial in trials_control_none:\n",
    "    Path = os.path.join(Path_h5, trial + '.h5')\n",
    "    experiment_length = get_experiment_length(Path, quiet = 'y')\n",
    "    all_exp_length_0c.append(experiment_length)\n",
    "    \n",
    "all_exp_length_0e = []\n",
    "for trial in trials_exp_none:\n",
    "    Path = os.path.join(Path_h5, trial + '.h5')\n",
    "    experiment_length = get_experiment_length(Path, quiet = 'y')\n",
    "    all_exp_length_0e.append(experiment_length)\n",
    "\n"
   ]
  },
  {
   "cell_type": "code",
   "execution_count": 241,
   "metadata": {},
   "outputs": [
    {
     "data": {
      "image/png": "[encoded data removed]",
      "text/plain": [
       "<Figure size 432x288 with 1 Axes>"
      ]
     },
     "metadata": {
      "needs_background": "light"
     },
     "output_type": "display_data"
    }
   ],
   "source": [
    "##plot experiment lengths\n",
    "scatter_plot_conditions(all_exp_length_20c, all_exp_length_20e, all_exp_length_40c, all_exp_length_40e, all_exp_length_0c, all_exp_length_0e)\n",
    "bar_plot_conditions(all_exp_length_20c, all_exp_length_20e, all_exp_length_40c, all_exp_length_40e, all_exp_length_0c, all_exp_length_0e)\n",
    "plt.title('Experiment length for different conditions (ms) \\n error = std \\n exp = gr5a;chrimson and cont = isod1 or gr5a/+ \\n I have a trial timeout at 30 min')\n",
    "plt.ylabel('time (s)')\n",
    "x = [0,1,2,3,4,5]\n",
    "my_xticks = ['20s cont', '20s exp', '40s cont', '40s exp', 'none-cont', 'none-exp'] \n",
    "plt.xticks(x, my_xticks)\n",
    "plt.show()"
   ]
  },
  {
   "cell_type": "code",
   "execution_count": null,
   "metadata": {},
   "outputs": [],
   "source": [
    "def make_not_none_mask (array):\n",
    "    mask = array != None\n",
    "    return mask"
   ]
  },
  {
   "cell_type": "code",
   "execution_count": 242,
   "metadata": {},
   "outputs": [
    {
     "data": {
      "image/png": "[encoded data removed]",
      "text/plain": [
       "<Figure size 432x288 with 1 Axes>"
      ]
     },
     "metadata": {
      "needs_background": "light"
     },
     "output_type": "display_data"
    }
   ],
   "source": [
    "## plot number foodspots/experiment length\n",
    "##foodspot number\n",
    "all_exp_length_20c = np.array(all_exp_length_20c)\n",
    "num_foodspots_20c = np.array(num_foodspots_20c)\n",
    "all_exp_length_20e = np.array(all_exp_length_20e)\n",
    "num_foodspots_20e = np.array(num_foodspots_20e)\n",
    "all_exp_length_40c = np.array(all_exp_length_40c)\n",
    "num_foodspots_40c = np.array(num_foodspots_40c)\n",
    "all_exp_length_40e = np.array(all_exp_length_40e)\n",
    "num_foodspots_40e = np.array(num_foodspots_40e)\n",
    "\n",
    "mask_20c = num_foodspots_20c != None\n",
    "mask_20e = num_foodspots_20e != None\n",
    "mask_40c = num_foodspots_40c != None\n",
    "mask_40e = num_foodspots_40e != None\n",
    "\n",
    "#print(all_exp_length_20c)\n",
    "\n",
    "scatter_plot_conditions(num_foodspots_20c[mask_20c]/all_exp_length_20c[mask_20c], \n",
    "                        num_foodspots_20e[mask_20e]/all_exp_length_20e[mask_20e],\n",
    "                       num_foodspots_40c[mask_40c]/all_exp_length_40c[mask_40c],\n",
    "                       num_foodspots_40e[mask_40e]/all_exp_length_40e[mask_40e]) \n",
    "bar_plot_conditions(num_foodspots_20c[mask_20c]/all_exp_length_20c[mask_20c], \n",
    "                        num_foodspots_20e[mask_20e]/all_exp_length_20e[mask_20e],\n",
    "                       num_foodspots_40c[mask_40c]/all_exp_length_40c[mask_40c],\n",
    "                       num_foodspots_40e[mask_40e]/all_exp_length_40e[mask_40e]) \n",
    "plt.title('total foodspot visits normalized by experiment length \\n error = std \\n exp = gr5a;chrimson and cont = isod1 or gr5a/+')\n",
    "plt.ylabel('number foodspots/experiment length')\n",
    "x = [0,1,2,3]\n",
    "my_xticks = ['20s cont', '20s exp', '40s cont', '40s exp'] \n",
    "plt.xticks(x, my_xticks)\n",
    "plt.show()"
   ]
  },
  {
   "cell_type": "code",
   "execution_count": 243,
   "metadata": {},
   "outputs": [
    {
     "name": "stdout",
     "output_type": "stream",
     "text": [
      "0.3939393939393939\n",
      "0.3333333333333333\n",
      "0.0\n",
      "0.19444444444444445\n",
      "0.0\n",
      "0.0\n"
     ]
    }
   ],
   "source": [
    "## count proportion experiments where fly timed out\n",
    "conditions = [all_exp_length_20c, all_exp_length_20e, all_exp_length_40c, all_exp_length_40e, all_exp_length_0c, all_exp_length_0e]\n",
    "for cond in conditions:\n",
    "    cond = np.array(cond, dtype=np.float64)\n",
    "    maxed_out =  len(cond[cond>1700])\n",
    "    total = len(cond[cond != np.nan])\n",
    "    proportion = maxed_out/total\n",
    "    print(proportion)"
   ]
  },
  {
   "cell_type": "code",
   "execution_count": 253,
   "metadata": {},
   "outputs": [],
   "source": [
    "# #plot total number of foodspots visited during expeirment\n",
    "\n",
    "# #conditions = [all_control_num_foodspots_20, all_exp_num_foodspots_20, all_control_num_foodspots_40, all_exp_num_foodspots_40]\n",
    "# scatter_plot_conditions(all_control_num_foodspots_20, all_exp_num_foodspots_20, all_control_num_foodspots_40, all_exp_num_foodspots_40)\n",
    "# bar_plot_conditions(all_control_num_foodspots_20, all_exp_num_foodspots_20, all_control_num_foodspots_40, all_exp_num_foodspots_40)\n",
    "\n",
    "# plt.ylabel('number foodspots')\n",
    "# plt.title('Number of foodspots \\n at least one foodspot visit required')\n",
    "# x = [0,1,2,3]\n",
    "# my_xticks = ['20s cont', '20s exp', '40s cont', '40s exp'] \n",
    "# plt.xticks(x, my_xticks)\n",
    "# plt.show()\n",
    "\n",
    "# ##also plot the length of time of experiment..."
   ]
  },
  {
   "cell_type": "code",
   "execution_count": 244,
   "metadata": {},
   "outputs": [
    {
     "data": {
      "image/png": "[encoded data removed]",
      "text/plain": [
       "<Figure size 432x288 with 1 Axes>"
      ]
     },
     "metadata": {
      "needs_background": "light"
     },
     "output_type": "display_data"
    }
   ],
   "source": [
    "# get food encounter rate (number foodspots/time not in foodspot)\n",
    "\n",
    "encounter_20c = []\n",
    "for trial in trials_control_20:\n",
    "    Path = os.path.join(Path_h5, trial + '.h5')\n",
    "    encounter_rate = get_food_encounter_rate(Path, 'y')\n",
    "    encounter_20c.append(encounter_rate)\n",
    "    \n",
    "encounter_20e = []\n",
    "for trial in trials_exp_20:\n",
    "    Path = os.path.join(Path_h5, trial + '.h5')\n",
    "    encounter_rate = get_food_encounter_rate(Path, 'y')\n",
    "    encounter_20e.append(encounter_rate)\n",
    "    \n",
    "encounter_40c = []\n",
    "for trial in trials_control_40:\n",
    "    Path = os.path.join(Path_h5, trial + '.h5')\n",
    "    encounter_rate = get_food_encounter_rate(Path, 'y')\n",
    "    encounter_40c.append(encounter_rate)\n",
    "    \n",
    "encounter_40e = []\n",
    "for trial in trials_exp_40:\n",
    "    Path = os.path.join(Path_h5, trial + '.h5')\n",
    "    encounter_rate = get_food_encounter_rate(Path, 'y')\n",
    "    encounter_40e.append(encounter_rate)\n",
    "    \n",
    "\n",
    "scatter_plot_conditions(encounter_20c, encounter_20e, encounter_40c, encounter_40e)\n",
    "bar_plot_conditions(encounter_20c, encounter_20e, encounter_40c, encounter_40e)\n",
    "\n",
    "\n",
    "plt.ylabel('rate of food encounters #foodspots/time not in food(s)')\n",
    "x = [0,1,2,3]\n",
    "my_xticks = ['20s cont', '20s exp', '40s cont', '40s exp'] \n",
    "plt.xticks(x, my_xticks)\n",
    "plt.title(\"Rate of food encounters\")\n",
    "\n",
    "plt.show()\n",
    "##not sure why there are so many in control 20 that are in food the whole time...check the opto there. "
   ]
  },
  {
   "cell_type": "code",
   "execution_count": 245,
   "metadata": {},
   "outputs": [
    {
     "name": "stderr",
     "output_type": "stream",
     "text": [
      "C:\\Python37\\lib\\site-packages\\ipykernel_launcher.py:16: RuntimeWarning: Mean of empty slice\n",
      "  app.launch_new_instance()\n",
      "C:\\Python37\\lib\\site-packages\\ipykernel_launcher.py:21: RuntimeWarning: Mean of empty slice\n"
     ]
    }
   ],
   "source": [
    "## fly speed in and out of foodspots\n",
    "\n",
    "speed_20c = []\n",
    "for trial in trials_control_20:\n",
    "    Path = os.path.join(Path_h5, trial + '.h5')\n",
    "    speed_20c.append(np.nanmean(np.array(get_speed_during_food(Path, 'y')), dtype = np.float64))\n",
    "    \n",
    "speed_20e = []\n",
    "for trial in trials_exp_20:\n",
    "    Path = os.path.join(Path_h5, trial + '.h5')\n",
    "    speed_20e.append(np.nanmean(np.array(get_speed_during_food(Path, 'y')), dtype = np.float64))\n",
    "    \n",
    "speed_40c = []\n",
    "for trial in trials_control_40:\n",
    "    Path = os.path.join(Path_h5, trial + '.h5')\n",
    "    speed_40c.append(np.nanmean(np.array(get_speed_during_food(Path, 'y')), dtype = np.float64))\n",
    "    \n",
    "speed_40e = []\n",
    "for trial in trials_exp_40:\n",
    "    Path = os.path.join(Path_h5, trial + '.h5')\n",
    "    speed_40e.append(np.nanmean(np.array(get_speed_during_food(Path, 'y')), dtype = np.float64))\n",
    "    \n",
    "speed_nonec = []\n",
    "for trial in trials_control_none:\n",
    "    Path = os.path.join(Path_h5, trial + '.h5')\n",
    "    with h5py.File(Path, 'a') as f:\n",
    "        if 'x raw' in f.keys() and f['x raw'][()] is not None:\n",
    "            velocity = f['velocity'][()]\n",
    "            speed_nonec.append(np.mean(velocity))\n",
    "            \n",
    "speed_nonee = []\n",
    "for trial in trials_exp_none:\n",
    "    Path = os.path.join(Path_h5, trial + '.h5')\n",
    "    with h5py.File(Path, 'a') as f:\n",
    "        if 'x raw' in f.keys() and f['x raw'][()] is not None:\n",
    "            velocity = f['velocity'][()]\n",
    "            speed_nonee.append(np.mean(velocity))"
   ]
  },
  {
   "cell_type": "code",
   "execution_count": 246,
   "metadata": {},
   "outputs": [],
   "source": [
    "## fly speed in and out of foodspots\n",
    "\n",
    "no_food_speed_20c = []\n",
    "for trial in trials_control_20:\n",
    "    Path = os.path.join(Path_h5, trial + '.h5')\n",
    "    no_food_speed_20c.append(np.nanmean(np.array(get_speed_not_during_food(Path, 'y')), dtype = np.float64))\n",
    "    \n",
    "no_food_speed_20e = []\n",
    "for trial in trials_exp_20:\n",
    "    Path = os.path.join(Path_h5, trial + '.h5')\n",
    "    no_food_speed_20e.append(np.nanmean(np.array(get_speed_not_during_food(Path, 'y')), dtype = np.float64))\n",
    "    \n",
    "no_food_speed_40c = []\n",
    "for trial in trials_control_40:\n",
    "    Path = os.path.join(Path_h5, trial + '.h5')\n",
    "    no_food_speed_40c.append(np.nanmean(np.array(get_speed_not_during_food(Path, 'y')), dtype = np.float64))\n",
    "    \n",
    "no_food_speed_40e = []\n",
    "for trial in trials_exp_40:\n",
    "    Path = os.path.join(Path_h5, trial + '.h5')\n",
    "    no_food_speed_40e.append(np.nanmean(np.array(get_speed_not_during_food(Path, 'y')), dtype = np.float64))\n",
    "    \n",
    "no_food_speed_nonec = []\n",
    "for trial in trials_control_none:\n",
    "    Path = os.path.join(Path_h5, trial + '.h5')\n",
    "    with h5py.File(Path, 'a') as f:\n",
    "        if 'x raw' in f.keys() and f['x raw'][()] is not None:\n",
    "            velocity = f['velocity'][()]\n",
    "            no_food_speed_nonec.append(np.mean(velocity))\n",
    "            \n",
    "no_food_speed_nonee = []\n",
    "for trial in trials_exp_none:\n",
    "    Path = os.path.join(Path_h5, trial + '.h5')\n",
    "    with h5py.File(Path, 'a') as f:\n",
    "        if 'x raw' in f.keys() and f['x raw'][()] is not None:\n",
    "            velocity = f['velocity'][()]\n",
    "            no_food_speed_nonee.append(np.mean(velocity))"
   ]
  },
  {
   "cell_type": "code",
   "execution_count": 247,
   "metadata": {
    "scrolled": true
   },
   "outputs": [
    {
     "name": "stdout",
     "output_type": "stream",
     "text": [
      "[2.8020991188283088e-05, 1.321178657369188e-05, 1.1966901780816822e-05, nan, nan, nan, nan, nan, nan, nan, 0.00013794449704167716, 1.1127177145349098e-05, nan, 9.621862995036928e-06, 2.7230846292671746e-05, 1.7237161931832433e-05, 9.784081705039435e-06, 2.0823503136238165e-05, 4.0053144315742744e-05, nan, nan, 5.277280544095982e-05, nan, 1.5249307615458987e-05, nan, nan, 1.8663576198394964e-05, 5.148458844716348e-06, nan, 1.4975494509898499e-05, 2.462214850259334e-06, nan, nan]\n"
     ]
    },
    {
     "data": {
      "image/png": "[encoded data removed]",
      "text/plain": [
       "<Figure size 432x288 with 1 Axes>"
      ]
     },
     "metadata": {
      "needs_background": "light"
     },
     "output_type": "display_data"
    },
    {
     "data": {
      "image/png": "[encoded data removed]",
      "text/plain": [
       "<Figure size 432x288 with 1 Axes>"
      ]
     },
     "metadata": {
      "needs_background": "light"
     },
     "output_type": "display_data"
    },
    {
     "data": {
      "image/png": "[encoded data removed]",
      "text/plain": [
       "<Figure size 432x288 with 1 Axes>"
      ]
     },
     "metadata": {
      "needs_background": "light"
     },
     "output_type": "display_data"
    }
   ],
   "source": [
    "#speed in food\n",
    "#print(speed_20c)\n",
    "scatter_plot_conditions(speed_20c, speed_20e, speed_40c, speed_40e)\n",
    "print(speed_20c)\n",
    "plt.show()\n",
    "bar_plot_conditions(speed_20c, speed_20e, speed_40c, speed_40e)\n",
    "plt.title('speed in food')\n",
    "plt.show()\n",
    "\n",
    "bar_plot_conditions(speed_nonee, speed_nonec)\n",
    "plt.title('speed not in food control and experiment')\n",
    "plt.show()"
   ]
  },
  {
   "cell_type": "code",
   "execution_count": 256,
   "metadata": {},
   "outputs": [],
   "source": [
    "# ### speed not in food\n",
    "# #run_on_all_trials(Path_h5, trials, function, quiet = 'y')\n",
    "no_food_speed_40e = run_on_all_trials_mean(Path_h5, trials_exp_40, get_speed_not_during_food)\n",
    "no_food_speed_20e = run_on_all_trials_mean(Path_h5, trials_exp_20, get_speed_not_during_food)\n",
    "no_food_speed_40c = run_on_all_trials_mean(Path_h5, trials_control_40, get_speed_not_during_food)\n",
    "no_food_speed_20c = run_on_all_trials_mean(Path_h5, trials_control_20, get_speed_not_during_food)\n",
    "no_food_speed_nonec = run_on_all_trials_mean(Path_h5, trials_control_none, get_speed_not_during_food)\n",
    "no_food_speed_nonee = run_on_all_trials_mean(Path_h5, trials_exp_none, get_speed_not_during_food)"
   ]
  },
  {
   "cell_type": "code",
   "execution_count": 255,
   "metadata": {},
   "outputs": [
    {
     "name": "stdout",
     "output_type": "stream",
     "text": [
      "[6.517765208585966e-05, 9.94789741469617e-05, 7.048241406006008e-05, nan, nan, nan, nan, nan, nan, nan, 0.0003718791546004118, 8.047588730398806e-05, nan, 0.00010915123112648077, 7.584461742036812e-05, 0.00012106263833569417, 6.166185306502454e-05, 8.040350125424446e-05, 7.540558467788911e-05, nan, nan, 0.00013137955282795476, nan, 6.889903024112604e-05, nan, nan, 9.478122493411564e-05, 0.00014383005084364232, nan, 8.485162317347222e-05, 7.835984363693924e-05, nan, nan]\n",
      "0.00010665440198436662\n"
     ]
    },
    {
     "data": {
      "image/png": "[encoded data removed]",
      "text/plain": [
       "<Figure size 432x288 with 1 Axes>"
      ]
     },
     "metadata": {
      "needs_background": "light"
     },
     "output_type": "display_data"
    }
   ],
   "source": [
    "## plot speed not in foodspots\n",
    "print(no_food_speed_20c)\n",
    "print(np.nanmean(no_food_speed_20c))\n",
    "bar_plot_conditions((no_food_speed_20c), (no_food_speed_20e), (no_food_speed_40c), (no_food_speed_40e), no_food_speed_nonec, no_food_speed_nonee)\n",
    "plt.ylabel('speed (figure out units)')\n",
    "x = [0,1,2,3, 4, 5]\n",
    "my_xticks = ['20s cont', '20s exp', '40s cont', '40s exp', 'no op cont', 'no op exp'] \n",
    "plt.xticks(x, my_xticks)\n",
    "plt.title(\"speed when not in food\")\n",
    "plt.ylim(0,.0002)\n",
    "#plt.show()\n",
    "\n",
    "bar_plot_conditions(speed_20c, speed_20e, speed_40c, speed_40e)\n",
    "# plt.title('speed in food')\n",
    "# x = [0,1,2,3, 4, 5]\n",
    "# my_xticks = ['20s cont', '20s exp', '40s cont', '40s exp'] \n",
    "plt.xticks(x, my_xticks)\n",
    "plt.ylim(0,.0002)\n",
    "\n",
    "plt.title(\"speed in and out of food (overlay dark part is speed in food)\")\n",
    "plt.show()"
   ]
  },
  {
   "cell_type": "code",
   "execution_count": 202,
   "metadata": {},
   "outputs": [],
   "source": [
    "#write function to exclude flies that sit at the hole and fall asleep (may also not be flies, may be hole errors)\n",
    "#if dont get certain euc distance from hole then don't use (let's say 3cm)\n",
    "def check_if_explorer (Path):\n",
    "    \"\"\"input specific trial path and outputs figure in savePath. Must be to h5 file! \n",
    "    will look to see if a fly travels 3cm in any direction away from the hole and return False if it does not, \n",
    "    will return True if it does explore\"\"\"\n",
    "    \n",
    "    #get data\n",
    "    with h5py.File(Path, 'a') as f:\n",
    "        if 'x raw' in f.keys() and f['x raw'][()] is not None:\n",
    "            x = f['x raw'][()]\n",
    "            y = f['y raw'][()]\n",
    "            center_x = x[0] #starting positions\n",
    "            center_y = y[0]\n",
    "            required_distance = 3 #3 = 3cm bc I adjust for cm later by mult by 100\n",
    "            #find max x and y and see if either are further than 3 cm, if so don't need to worry about euc calculations\n",
    "            if (max(abs(x - center_x)))*100 > required_distance or (max(abs(y - center_y)))*100 > required_distance:\n",
    "                return True\n",
    "                \n",
    "            else:\n",
    "                #check distance                                                \n",
    "                distance = np.sqrt((x - center_x)**2 + (y - center_y)**2)*100\n",
    "                if max(distance) > required_distance:\n",
    "                    return True\n",
    "                else:\n",
    "                    return False"
   ]
  },
  {
   "cell_type": "code",
   "execution_count": 349,
   "metadata": {},
   "outputs": [],
   "source": [
    "##check if asleep\n",
    "#a fly is asleep if it stays in the same place for more than 2 minutes (I'm declaring)\n",
    "\n",
    "def check_if_asleep (Path):\n",
    "    ##want the time and x,y where fly falls asleep (later may just want time...to eliminate the experiment after)\n",
    "    with h5py.File(Path, 'a') as f:\n",
    "        if 'x raw' in f.keys() and f['x raw'][()] is not None:\n",
    "            x = f['x raw'][()]\n",
    "            y = f['y raw'][()]\n",
    "            center_x = x[0] #starting positions\n",
    "            center_y = y[0]\n",
    "            velocity = f['velocity'][()]  \n",
    "\n",
    "            ##check if velocity is low for a while\n",
    "            min_velocity = .00001  #this may need adjustment\n",
    "            still_length_minutes = 3 #time in minutes fly is allowed to be still\n",
    "            framerate = .01 #frames/s\n",
    "            still_length_frames = int(still_length_minutes*60 /framerate) #number of frames the fly is allowed to be still for\n",
    "\n",
    "            sleep_indices = [] #put in start and stop as tuples\n",
    "            zero_collect = [] #won't actually be \"zero\" but will be less than min velocity\n",
    "            for vel_index in range(len(velocity)):\n",
    "                #make sure index isn't zero and current velocity and prev velocity were zero\n",
    "                if vel_index != 0 and velocity[vel_index] < min_velocity: # and velocity[vel_index -1] < min_velocity:\n",
    "                    zero_collect.append(index)\n",
    "                    #last index condition\n",
    "                    if vel_index == (len(velocity) - 1) and len(zero_collect) >= still_length_frames: #check if it meets min still time\n",
    "#                         print(\"SLEEPY FLY last sleepy frame = \", vel_index)\n",
    "#                         print(\"sleepy fly first sleepy frame =\", zero_collect[0])\n",
    "                        sleep_indices.append((zero_collect[0], vel_index)) #start and stop\n",
    "                        zero_collect = []\n",
    "                    elif len(zero_collect) >= still_length_frames and velocity[vel_index + 1] > min_velocity: #zero string sufficiently long\n",
    "#                         print(\"SLEEPY FLY last sleepy frame = \", index)\n",
    "#                         print(\"sleepy fly first sleepy frame =\", zero_collect[0])\n",
    "                        sleep_indices.append((zero_collect[0], vel_index)) #start and stop\n",
    "                        zero_collect = []\n",
    "                else:\n",
    "                    zero_collect = [] #reset sleep collector\n",
    "\n",
    "            return sleep_indices\n"
   ]
  },
  {
   "cell_type": "code",
   "execution_count": 319,
   "metadata": {},
   "outputs": [
    {
     "data": {
      "text/plain": [
       "6000"
      ]
     },
     "execution_count": 319,
     "metadata": {},
     "output_type": "execute_result"
    }
   ],
   "source": [
    "int(1*60/.01)"
   ]
  },
  {
   "cell_type": "code",
   "execution_count": 331,
   "metadata": {},
   "outputs": [
    {
     "name": "stdout",
     "output_type": "stream",
     "text": [
      "[ 0  0  0  0  0  0  3  4  0  5  6  0  0  0  0  0  0  0  0  0  0  0  0  4\n",
      "  5  4  5  4  5  0  4  5  0  0  4  5  7 10  1  1  1  0  0  0  0  0]\n",
      "long zeros 5\n",
      "long zeros 22\n",
      "long zeros--end of array 45\n",
      "[(1, 5), (11, 22), (41, 45)]\n",
      "[0 0 0 0 0 0 0 0 0 0 0 0 0 0 0 0 0 0 0 0 0 0 0 0 0 0 0]\n"
     ]
    },
    {
     "data": {
      "image/png": "[encoded data removed]",
      "text/plain": [
       "<Figure size 432x288 with 1 Axes>"
      ]
     },
     "metadata": {
      "needs_background": "light"
     },
     "output_type": "display_data"
    }
   ],
   "source": [
    "test = np.array([0,0,0,0,0,0,3,4,0,5,6,0,0,0,0,0,0,0,0,0,0,0,0, 4,5,4,5,4,5,0,4,5,0,0,4,5,7,10,1,1,1,0,0,0,0,0])\n",
    "print(test)\n",
    "plt.plot(test)\n",
    "\n",
    "zero_length = 4 ##will actually look for a length taht is two more than this\n",
    "min_velocity = 1\n",
    "zero_collect = []\n",
    "sleep_indices = []\n",
    "for index in range(len(test)):\n",
    "    if index != 0 and test[index] < min_velocity: #and test[index - 1] < min_velocity: #previous index also needs to be zero\n",
    "        zero_collect.append(index)\n",
    "        if index == (len(test) - 1) and len(zero_collect) >= zero_length: #if its the last index\n",
    "            print(\"long zeros--end of array\", index)\n",
    "            sleep_indices.append((zero_collect[0], index))\n",
    "        elif len(zero_collect) > zero_length and test[index + 1] > min_velocity : #not last index and zero string is sufficiently long and next index is no longer zero\n",
    "            print(\"long zeros\", index)\n",
    "            sleep_indices.append((zero_collect[0], index))\n",
    "            zero_collect = []\n",
    "    else:\n",
    "        zero_collect = []\n",
    "        \n",
    "print(sleep_indices)\n",
    "zero_test = test[test<1]\n",
    "print(zero_test)"
   ]
  },
  {
   "cell_type": "code",
   "execution_count": 336,
   "metadata": {},
   "outputs": [
    {
     "name": "stdout",
     "output_type": "stream",
     "text": [
      "0.0008663886127400702\n",
      "1.203672409228541e-08\n",
      "mean 5.4985952983777154e-05\n",
      "[]\n",
      "4.188260193509251e-07\n",
      "9.16313676751804e-11\n",
      "SLEEPY FLY last sleepy frame =  179996\n",
      "sleepy fly first sleepy frame = 45\n",
      "[(45, 179996)]\n"
     ]
    }
   ],
   "source": [
    "#compare 0 and 3\n",
    "fly = 0\n",
    "trial = trials_control_20[fly]\n",
    "Path = os.path.join(Path_h5, trial + '.h5')\n",
    "with h5py.File(Path, 'a') as f:\n",
    "    velocity = f['velocity'][()]\n",
    "    print(max(abs(velocity)))\n",
    "    print(min(abs(velocity)))\n",
    "    print('mean',np.mean(abs(velocity)))\n",
    "    print(check_if_asleep (Path))\n",
    "    \n",
    "fly = 3\n",
    "trial = trials_control_20[fly]\n",
    "Path = os.path.join(Path_h5, trial + '.h5')\n",
    "with h5py.File(Path, 'a') as f:\n",
    "    velocity = f['velocity'][()]\n",
    "    print(max(abs(velocity)))\n",
    "    print(min(abs(velocity)))\n",
    "    print(check_if_asleep (Path))"
   ]
  },
  {
   "cell_type": "code",
   "execution_count": 350,
   "metadata": {
    "scrolled": true
   },
   "outputs": [
    {
     "data": {
      "image/png": "[encoded data removed]",
      "text/plain": [
       "<Figure size 360x360 with 1 Axes>"
      ]
     },
     "metadata": {
      "needs_background": "light"
     },
     "output_type": "display_data"
    },
    {
     "name": "stdout",
     "output_type": "stream",
     "text": [
      "[(45, 179996)]\n",
      "not explorer\n"
     ]
    },
    {
     "data": {
      "image/png": "[encoded data removed]",
      "text/plain": [
       "<Figure size 360x360 with 1 Axes>"
      ]
     },
     "metadata": {
      "needs_background": "light"
     },
     "output_type": "display_data"
    },
    {
     "name": "stdout",
     "output_type": "stream",
     "text": [
      "[(45, 179994)]\n",
      "not explorer\n"
     ]
    },
    {
     "data": {
      "image/png": "[encoded data removed]",
      "text/plain": [
       "<Figure size 360x360 with 1 Axes>"
      ]
     },
     "metadata": {
      "needs_background": "light"
     },
     "output_type": "display_data"
    },
    {
     "name": "stdout",
     "output_type": "stream",
     "text": [
      "[(45, 179997)]\n",
      "not explorer\n"
     ]
    },
    {
     "data": {
      "image/png": "[encoded data removed]",
      "text/plain": [
       "<Figure size 360x360 with 1 Axes>"
      ]
     },
     "metadata": {
      "needs_background": "light"
     },
     "output_type": "display_data"
    },
    {
     "name": "stdout",
     "output_type": "stream",
     "text": [
      "[(45, 179995)]\n",
      "not explorer\n"
     ]
    },
    {
     "data": {
      "image/png": "[encoded data removed]",
      "text/plain": [
       "<Figure size 360x360 with 1 Axes>"
      ]
     },
     "metadata": {
      "needs_background": "light"
     },
     "output_type": "display_data"
    },
    {
     "name": "stdout",
     "output_type": "stream",
     "text": [
      "[(45, 179997)]\n",
      "not explorer\n"
     ]
    },
    {
     "data": {
      "image/png": "[encoded data removed]",
      "text/plain": [
       "<Figure size 360x360 with 1 Axes>"
      ]
     },
     "metadata": {
      "needs_background": "light"
     },
     "output_type": "display_data"
    },
    {
     "name": "stdout",
     "output_type": "stream",
     "text": [
      "[(45, 179995)]\n",
      "not explorer\n"
     ]
    },
    {
     "data": {
      "image/png": "[encoded data removed]",
      "text/plain": [
       "<Figure size 360x360 with 1 Axes>"
      ]
     },
     "metadata": {
      "needs_background": "light"
     },
     "output_type": "display_data"
    },
    {
     "name": "stdout",
     "output_type": "stream",
     "text": [
      "[(45, 179997)]\n",
      "not explorer\n"
     ]
    },
    {
     "data": {
      "image/png": "[encoded data removed]",
      "text/plain": [
       "<Figure size 360x360 with 1 Axes>"
      ]
     },
     "metadata": {
      "needs_background": "light"
     },
     "output_type": "display_data"
    },
    {
     "name": "stdout",
     "output_type": "stream",
     "text": [
      "[(45, 108810)]\n",
      "sleepy explorer\n"
     ]
    },
    {
     "data": {
      "image/png": "[encoded data removed]",
      "text/plain": [
       "<Figure size 360x360 with 1 Axes>"
      ]
     },
     "metadata": {
      "needs_background": "light"
     },
     "output_type": "display_data"
    },
    {
     "name": "stdout",
     "output_type": "stream",
     "text": [
      "[(45, 179997)]\n",
      "not explorer\n"
     ]
    },
    {
     "data": {
      "image/png": "[encoded data removed]",
      "text/plain": [
       "<Figure size 360x360 with 1 Axes>"
      ]
     },
     "metadata": {
      "needs_background": "light"
     },
     "output_type": "display_data"
    },
    {
     "name": "stdout",
     "output_type": "stream",
     "text": [
      "[(45, 65090), (45, 179997)]\n",
      "not explorer\n"
     ]
    },
    {
     "data": {
      "image/png": "[encoded data removed]",
      "text/plain": [
       "<Figure size 360x360 with 1 Axes>"
      ]
     },
     "metadata": {
      "needs_background": "light"
     },
     "output_type": "display_data"
    },
    {
     "name": "stdout",
     "output_type": "stream",
     "text": [
      "[(45, 179997)]\n",
      "not explorer\n"
     ]
    },
    {
     "data": {
      "image/png": "[encoded data removed]",
      "text/plain": [
       "<Figure size 360x360 with 1 Axes>"
      ]
     },
     "metadata": {
      "needs_background": "light"
     },
     "output_type": "display_data"
    },
    {
     "name": "stdout",
     "output_type": "stream",
     "text": [
      "[(45, 179997)]\n",
      "not explorer\n"
     ]
    },
    {
     "data": {
      "image/png": "[encoded data removed]",
      "text/plain": [
       "<Figure size 360x360 with 1 Axes>"
      ]
     },
     "metadata": {
      "needs_background": "light"
     },
     "output_type": "display_data"
    },
    {
     "name": "stdout",
     "output_type": "stream",
     "text": [
      "[(45, 43518), (45, 93513)]\n",
      "sleepy explorer\n"
     ]
    },
    {
     "data": {
      "image/png": "[encoded data removed]",
      "text/plain": [
       "<Figure size 360x360 with 1 Axes>"
      ]
     },
     "metadata": {
      "needs_background": "light"
     },
     "output_type": "display_data"
    },
    {
     "name": "stdout",
     "output_type": "stream",
     "text": [
      "[(45, 179997)]\n",
      "not explorer\n"
     ]
    }
   ],
   "source": [
    "for trial in trials_control_20:\n",
    "    Path = os.path.join(Path_h5, trial + '.h5')\n",
    "    if check_if_asleep (Path) and len(check_if_asleep (Path)) > 0:\n",
    "        make_line_plots (Path, save = 'n', savePath = Path)\n",
    "        print(check_if_asleep(Path))\n",
    "        if (check_if_explorer(Path)) is False:\n",
    "            print(\"not explorer\")\n",
    "        else:\n",
    "            print(\"sleepy explorer\")\n",
    "            "
   ]
  },
  {
   "cell_type": "markdown",
   "metadata": {},
   "source": [
    "## FUNCTIONS"
   ]
  },
  {
   "cell_type": "code",
   "execution_count": 203,
   "metadata": {},
   "outputs": [],
   "source": [
    "def bar_plot_conditions(a,b=None, c=None, d=None, e=None, f=None, *args):\n",
    "    \"\"\"takes in list of values for each condition and bar plots the mean and plots std\n",
    "    will also get rid of None values and nan values in list\n",
    "    ---colors hardcoded to alternate\"\"\"\n",
    "    ##in future just have *args and input a list then iterate over the list of conditions\n",
    "    \n",
    "    float_a = np.array(a, dtype=np.float64)\n",
    "    plt.bar(0, np.nanmean(float_a), yerr=np.nanstd(float_a), alpha = .25, color = 'teal')\n",
    "    if b is not None:\n",
    "        float_b = np.array(b, dtype=np.float64)\n",
    "        plt.bar(1, np.nanmean(float_b), yerr=np.nanstd(float_b), alpha = .25, color = 'orange')\n",
    "    if c is not None:\n",
    "        float_c = np.array(c, dtype=np.float64)\n",
    "        plt.bar(2, np.nanmean(float_c), yerr=np.nanstd(float_c), alpha = .25, color = 'teal')\n",
    "    if d is not None:\n",
    "        float_d = np.array(d, dtype=np.float64)\n",
    "        plt.bar(3, np.nanmean(float_d), yerr=np.nanstd(float_d), alpha = .25, color = 'orange')\n",
    "    if e is not None:\n",
    "        float_e = np.array(e, dtype=np.float64)\n",
    "        plt.bar(4, np.nanmean(float_e), yerr=np.nanstd(float_e), alpha = .25, color = 'teal')\n",
    "    if f is not None:\n",
    "        float_f = np.array(f, dtype=np.float64)\n",
    "        plt.bar(5, np.nanmean(float_f), yerr=np.nanstd(float_f), alpha = .25, color = 'orange')"
   ]
  },
  {
   "cell_type": "code",
   "execution_count": 204,
   "metadata": {},
   "outputs": [],
   "source": [
    "def scatter_plot_conditions (a,b=None,c=None,d=None,e=None,f=None):\n",
    "    \"\"\"each input is a different condition variable for y, scatter plots will plot with random x jitter\n",
    "    --colors hardcoded for fast plotting\n",
    "    \"\"\"\n",
    "    \n",
    "    plt.scatter(np.random.rand(len(a))/2-.25, a, alpha = .5, color = 'blue')\n",
    "    if b is not None:\n",
    "        plt.scatter(np.random.rand(len(b))/2 + .75, b, alpha = .5, color = 'red')\n",
    "    if c is not None:\n",
    "        plt.scatter(np.random.rand(len(c))/2+ 1.75, c, alpha = .5, color = 'blue')\n",
    "    if d is not None:\n",
    "        plt.scatter(np.random.rand(len(d))/2+ 2.75, d, alpha = .5, color = 'red')\n",
    "    if e is not None:\n",
    "        plt.scatter(np.random.rand(len(e))/2+ 3.75, e, alpha = .5, color = 'blue')\n",
    "    if f is not None:\n",
    "        plt.scatter(np.random.rand(len(f))/2+ 4.75, f, alpha = .5, color = 'red')\n",
    "    #plt.show()\n",
    "    "
   ]
  },
  {
   "cell_type": "code",
   "execution_count": 205,
   "metadata": {},
   "outputs": [],
   "source": [
    "Path = 'l'"
   ]
  },
  {
   "cell_type": "code",
   "execution_count": 206,
   "metadata": {},
   "outputs": [],
   "source": [
    "def make_line_plots (Path, save = 'n', savePath = Path):\n",
    "    \"\"\"input specific trial path and outputs figure in savePath. Must be to h5 file! \n",
    "    If save and save path are not specified then it will not save. \n",
    "    If save is specified but savePath is not then a new folder in Path will be created\"\"\"\n",
    "    \n",
    "    #get data\n",
    "    with h5py.File(Path, 'a') as f:\n",
    "        if 'x raw' in f.keys() and f['x raw'][()] is not None:\n",
    "            x = f['x raw'][()]\n",
    "            y = f['y raw'][()]\n",
    "            center_x = x[0] #starting positions\n",
    "            center_y = y[0]\n",
    "            \n",
    "            fig1 = plt.figure(figsize=(5,5))\n",
    "            ax1 = fig1.add_subplot(111)\n",
    "            plt.xlim(-60,60)\n",
    "            plt.ylim(-60,60)\n",
    "            plt.xlabel(\"distance x (cm)\")\n",
    "            plt.ylabel(\"distance y (cm)\")\n",
    "            condition = f['condition'][()]\n",
    "            genotype = f['genotype'][()]\n",
    "            fly_name = f['trial'][()]\n",
    "            plt.title(str(condition)+ '_' + str(genotype) + '\\n' + str(trial))\n",
    "            \n",
    "            plt.plot((x - center_x)*100, (y-center_y)*100, color = 'black', alpha = .5)\n",
    "            plt.scatter(0, 0, color = 'black') #center dot\n",
    "            \n",
    "            if 'opto x' in f.keys() and f['opto x'] is not None:\n",
    "                opto_x = f['opto x'][()]\n",
    "                opto_y = f['opto y'][()]\n",
    "                plt.scatter((opto_x-center_x)*100, (opto_y-center_y)*100, s = 50, color = 'red', alpha = .5)\n",
    "            \n",
    "            plt.title(str(fly_name) + '_' + str(condition) + '_' + str(genotype))    \n",
    "            plt.show()\n",
    "                \n",
    "        else:  #have print if no x!\n",
    "            print(f\"There is no xy tracking data for this fly: {trial}\")\n",
    "            #break\n",
    "            \n",
    "            \n",
    "    #make save location if none specified\n",
    "    if savePath == Path and save == 'y':\n",
    "        up_one = os.path.split(Path)[0]\n",
    "        savePath = os.path.join(up_one, 'line_plots')\n",
    "        if os.path.exists(savePath):\n",
    "            print('path exists')\n",
    "        else:\n",
    "            os.makedirs(savePath)\n",
    "    \n",
    "    #save if requested\n",
    "    if save == 'y':\n",
    "        fig1.savefig(os.path.join(savePath, str(genotype)+ '_' + str(condition) + '_' + str(trial) + '_PATH.png'))\n"
   ]
  },
  {
   "cell_type": "code",
   "execution_count": 232,
   "metadata": {},
   "outputs": [],
   "source": [
    "def add_to_h5(Path, key, value):\n",
    "    \"\"\"adds new key value to h5 file and checks if it already exists\n",
    "    does overwrite\"\"\"\n",
    "    with h5py.File(Path, 'a') as f:\n",
    "        if key not in f.keys(): #check if key already in file\n",
    "            f[key] = value\n",
    "        else:\n",
    "            del f[key]\n",
    "            #print('deleting old key and OVERWRITING')\n",
    "            f[key] = value\n",
    "\n",
    "        "
   ]
  },
  {
   "cell_type": "code",
   "execution_count": 208,
   "metadata": {},
   "outputs": [],
   "source": [
    "## Experiment length\n",
    "def get_experiment_length(Path, quiet = 'n'):\n",
    "    \"\"\"get experiment length for each trial and add to h5py\n",
    "    as of 1-26-23 there is a timeout on the big rig that prevents flies from staying longer than 30min\"\"\"\n",
    "    with h5py.File(Path, 'a') as f:\n",
    "        if 'x raw' in f.keys() and f['x raw'][()] is not None:\n",
    "            x = f['x raw'][()]\n",
    "            framerate = .01 #frames/s\n",
    "            experiment_length = len(x)*framerate\n",
    "            add_to_h5(Path, 'experiment length', experiment_length) #time in any foodspot            \n",
    "        else:\n",
    "            if quiet == 'n':\n",
    "                print(\"no xy data for trial\")\n",
    "            experiment_length = None\n",
    "            \n",
    "        return experiment_length"
   ]
  },
  {
   "cell_type": "code",
   "execution_count": 209,
   "metadata": {},
   "outputs": [],
   "source": [
    "def get_foodspot_distance_matrix (Path, quiet = 'n'):\n",
    "    \"\"\"input path and get out distance matrix that calculates distance to closest foodspot for every fly position\n",
    "    Checks if fly moves 3cm away from hole and excludes otherwise\"\"\"\n",
    "    with h5py.File(Path, 'a') as f:\n",
    "        if 'x raw' in f.keys() and 'opto x' in f.keys() and f['opto x'][()] is not None and check_if_explorer(Path) is True: # and len(f['opto x'][()]) > 1:\n",
    "            flyx = f['x raw'][()]\n",
    "            flyy = f['y raw'][()]\n",
    "            optox = f['opto x'][()]\n",
    "            optoy = f['opto y'][()]\n",
    "            \n",
    "            distance_matrix = np.sqrt(\n",
    "            (flyx[:, np.newaxis] - optox[np.newaxis, :]) ** 2 +\n",
    "            (flyy[:, np.newaxis] - optoy[np.newaxis, :]) ** 2\n",
    "            )\n",
    "            \n",
    "            add_to_h5(Path, 'distance matrix', distance_matrix) #time in any foodspot            \n",
    "        else:\n",
    "            if quiet == 'n':\n",
    "                print(\"no xy daya for trial\")\n",
    "            distance_matrix = None  #so it doesn't break code if it can't find one trial with distance matrix\n",
    "            \n",
    "        return distance_matrix"
   ]
  },
  {
   "cell_type": "code",
   "execution_count": 210,
   "metadata": {},
   "outputs": [],
   "source": [
    "## this gets all the parameters, but I'm going to make individual functions to get \n",
    "##individual parameters since its nice to not worry about returning 4 things\n",
    "\n",
    "def get_foodspot_parameters (Path, quiet = 'n'):  \n",
    "    \"\"\"input path to h5 trial file. \n",
    "    returns: \n",
    "    -total foodspots\n",
    "    -total time in foodspots\n",
    "    -min distance to any foodspot at all times \n",
    "    -avg min distance from foodspot\n",
    "    and adds these to h5 file\n",
    "    (quiet prevents printing)\n",
    "    Checks if fly moves 3cm away from hole and excludes otherwise\"\"\"\n",
    "    with h5py.File(Path, 'a') as f:\n",
    "        if 'x raw' in f.keys() and 'opto x' in f.keys() and f['opto x'][()] is not None and check_if_explorer(Path) is True: # and len(f['opto x'][()]) > 1:\n",
    "            foodspot_radius = float(f['food radius (mm)'][()]) ##note key is wrong food radius is in m not mm\n",
    "            framerate = .01 ##always .01s for big rig camera\n",
    "        \n",
    "            if 'distance matrix' in f.keys():\n",
    "                distance_matrix = f['distance matrix'][()]\n",
    "            else:\n",
    "                distance_matrix = get_foodspot_distance_matrix(Path, quiet)\n",
    "    \n",
    "            in_foodspot_bool = distance_matrix < foodspot_radius\n",
    "        \n",
    "            total_time_in_foodspot = np.sum(in_foodspot_bool, axis=0)*framerate\n",
    "            min_distance = np.min(distance_matrix, axis=1) #minimum distance to any foodspot at all times\n",
    "            foodspot_avg_dist = min_distance.mean() #average distance to foodspot\n",
    "            total_foodspots = len(optox)\n",
    "            \n",
    "            ## add to h5 files\n",
    "            add_to_h5(Path, 'total time in foodspots', total_time_in_foodspot) #time in any foodspot\n",
    "            add_to_h5(Path, 'minimum distance to foodspot all times', min_distance) #distance to closest foodspot for all times\n",
    "            add_to_h5(Path, 'average distance to any foodspot', foodspot_avg_dist) #average distance to closest foodspot across time\n",
    "            add_to_h5(Path, 'total foodspots', total_foodspots)\n",
    "            \n",
    "        else:\n",
    "            if quiet == 'n':\n",
    "                print(f'no data for this fly')\n",
    "            total_time_in_foodspot = None\n",
    "            min_distance = None\n",
    "            foodspot_avg_dist = None\n",
    "            total_foodspots = None\n",
    "        \n",
    "        return total_time_in_foodspot, min_distance, foodspot_avg_dist, total_foodspots\n",
    "\n",
    "        \n",
    "            "
   ]
  },
  {
   "cell_type": "code",
   "execution_count": 211,
   "metadata": {},
   "outputs": [],
   "source": [
    "def get_total_time_in_foodspots (Path, quiet = 'n'):\n",
    "    \"\"\"input path to h5 trial file. \n",
    "    returns: \n",
    "    -total time in foodspots\n",
    "    and adds these to h5 file\n",
    "    (quiet prevents printing)\n",
    "    Checks if fly moves 3cm away from hole and excludes otherwise\"\"\"\n",
    "    with h5py.File(Path, 'a') as f:\n",
    "        if 'x raw' in f.keys() and 'opto x' in f.keys() and f['opto x'][()] is not None and check_if_explorer(Path) is True: # and len(f['opto x'][()]) > 1:\n",
    "            foodspot_radius = float(f['food radius (mm)'][()]) ##note key is wrong food radius is in m not mm\n",
    "            framerate = .01 ##always .01s for big rig camera\n",
    "        \n",
    "            if 'distance matrix' in f.keys():\n",
    "                distance_matrix = f['distance matrix'][()]\n",
    "            else:\n",
    "                distance_matrix = get_foodspot_distance_matrix(Path, quiet)\n",
    "    \n",
    "            in_foodspot_bool = distance_matrix < foodspot_radius\n",
    "            total_time_in_foodspot = np.sum(in_foodspot_bool, axis=0)*framerate\n",
    "            \n",
    "            ## add to h5 files\n",
    "            add_to_h5(Path, 'total time in foodspots', total_time_in_foodspot) #time in any foodspot\n",
    "            add_to_h5(Path, 'in foodspot bool', in_foodspot_bool) #true if fly in foodspot duringt that frame\n",
    "\n",
    "        else:\n",
    "            if quiet == 'n':\n",
    "                print(f'no data for this fly')\n",
    "            total_time_in_foodspot = None\n",
    "        \n",
    "        return total_time_in_foodspot\n",
    "     \n",
    "        \n",
    "            "
   ]
  },
  {
   "cell_type": "code",
   "execution_count": 212,
   "metadata": {},
   "outputs": [],
   "source": [
    "def get_in_foodspot_bool (Path, quiet = 'n'):\n",
    "    \"\"\"input path to h5 trial file. \n",
    "    returns: \n",
    "    -bool for every frame the fly is in a foodspot (also calculated and saved in total food)\n",
    "    and adds these to h5 file\n",
    "    (quiet prevents printing)\n",
    "    Checks if fly moves 3cm away from hole and excludes otherwise\"\"\"\n",
    "    with h5py.File(Path, 'a') as f:\n",
    "        if 'x raw' in f.keys() and 'opto x' in f.keys() and f['opto x'][()] is not None and check_if_explorer(Path) is True: # and len(f['opto x'][()]) > 1:\n",
    "            foodspot_radius = float(f['food radius (mm)'][()]) ##note key is wrong food radius is in m not mm\n",
    "            framerate = .01 ##always .01s for big rig camera\n",
    "            \n",
    "            if 'distance matrix' in f.keys():\n",
    "                distance_matrix = f['distance matrix'][()]\n",
    "            else:\n",
    "                distance_matrix = get_foodspot_distance_matrix(Path, quiet)\n",
    "            in_foodspot_bool = distance_matrix < foodspot_radius\n",
    "            \n",
    "            ## add to h5 files\n",
    "            add_to_h5(Path, 'in foodspot bool', in_foodspot_bool) #true if fly in foodspot duringt that frame\n",
    "        else:\n",
    "            if quiet == 'n':\n",
    "                print(f'no data for this fly')\n",
    "            in_foodspot_bool = None\n",
    "        \n",
    "        return in_foodspot_bool\n",
    "     "
   ]
  },
  {
   "cell_type": "code",
   "execution_count": 213,
   "metadata": {},
   "outputs": [],
   "source": [
    "def get_total_foodspots (Path, quiet = 'n'):\n",
    "    \"\"\"input path to h5 trial file. \n",
    "    returns: \n",
    "    -total foodspots\n",
    "    and adds these to h5 file\n",
    "    (quiet prevents printing)\n",
    "    Checks if fly moves 3cm away from hole and excludes otherwise\"\"\"\n",
    "    with h5py.File(Path, 'a') as f:\n",
    "        if 'x raw' in f.keys() and 'opto x' in f.keys() and f['opto x'][()] is not None and check_if_explorer(Path) is True: # and len(f['opto x'][()]) > 1:\n",
    "            total_foodspots = len(f['opto x'][()])\n",
    "            \n",
    "            ## add to h5 files\n",
    "            add_to_h5(Path, 'total foodspots', total_foodspots)\n",
    "\n",
    "        else:\n",
    "            if quiet == 'n':\n",
    "                print(f'no data for this fly')\n",
    "\n",
    "            total_foodspots = None\n",
    "        return total_foodspots\n",
    "\n",
    "        \n",
    "            "
   ]
  },
  {
   "cell_type": "code",
   "execution_count": 214,
   "metadata": {},
   "outputs": [],
   "source": [
    "## this gets all the parameters, but I'm going to make individual functions to get \n",
    "##individual parameters since its nice to not worry about returning 4 things\n",
    "\n",
    "def get_min_distance_any_foodspot (Path, quiet = 'n'):  \n",
    "    \"\"\"input path to h5 trial file. \n",
    "    returns: \n",
    "    -min distance to any foodspot at all times \n",
    "    -also adds average distance to h5 file\n",
    "    and adds these to h5 file\n",
    "    (quiet prevents printing)\n",
    "    Checks if fly moves 3cm away from hole and excludes otherwise\"\"\"\n",
    "    with h5py.File(Path, 'a') as f:\n",
    "        if 'x raw' in f.keys() and 'opto x' in f.keys() and f['opto x'][()] is not None and check_if_explorer(Path) is True: # and len(f['opto x'][()]) > 1:\n",
    "            foodspot_radius = float(f['food radius (mm)'][()]) ##note key is wrong food radius is in m not mm\n",
    "            framerate = .01 ##always .01s for big rig camera\n",
    "        \n",
    "            if 'distance matrix' in f.keys():\n",
    "                distance_matrix = f['distance matrix'][()]\n",
    "            else:\n",
    "                distance_matrix = get_foodspot_distance_matrix(Path, quiet)\n",
    "        \n",
    "            min_distance = np.min(distance_matrix, axis=1) #minimum distance to any foodspot at all times\n",
    "            foodspot_avg_dist = min_distance.mean() #average distance to foodspot\n",
    "\n",
    "            ## add to h5 files\n",
    "            add_to_h5(Path, 'minimum distance to foodspot all times', min_distance) #distance to closest foodspot for all times\n",
    "            add_to_h5(Path, 'average distance to any foodspot', foodspot_avg_dist) #average distance to closest foodspot across time\n",
    "            \n",
    "        else:\n",
    "            if quiet == 'n':\n",
    "                print(f'no data for this fly')\n",
    "            min_distance = None\n",
    "            foodspot_avg_dist = None\n",
    "        \n",
    "        return min_distance\n",
    "\n",
    "        \n",
    "            "
   ]
  },
  {
   "cell_type": "code",
   "execution_count": 215,
   "metadata": {},
   "outputs": [],
   "source": [
    "def get_avg_foodspot_duration (Path, quiet = 'n'):\n",
    "    \"\"\"get average duration of foodspot visits (total duration/number of visits)\n",
    "    Checks if fly moves 3cm away from hole and excludes otherwise\"\"\"\n",
    "    with h5py.File(Path, 'a') as f:\n",
    "        if 'x raw' in f.keys() and 'opto x' in f.keys() and f['opto x'][()] is not None and check_if_explorer(Path) is True: # and len(f['opto x'][()]) > 1:\n",
    "            foodspot_radius = float(f['food radius (mm)'][()]) ##note key is wrong food radius is in m not mm\n",
    "            framerate = .01 ##always .01s for big rig camera\n",
    "        \n",
    "            if 'total time in foodspots' in f.keys():\n",
    "                total_time_in_foodspot = f['total time in foodspots'][()]\n",
    "            else:\n",
    "                total_time_in_foodspot = get_total_time_in_foodspots(Path, quiet)\n",
    "            avg_time_foodspot = np.mean(total_time_in_foodspot)\n",
    "            \n",
    "            ## add to h5 files\n",
    "            add_to_h5(Path, 'average time in foodspots', avg_time_foodspot)\n",
    "        else:\n",
    "            if quiet == 'n':\n",
    "                print(f'no data for this fly')\n",
    "            avg_time_foodspot = None\n",
    "        \n",
    "        return avg_time_foodspot"
   ]
  },
  {
   "cell_type": "code",
   "execution_count": 216,
   "metadata": {},
   "outputs": [],
   "source": [
    "def get_food_encounter_rate (Path, quiet = 'n'):\n",
    "    \"\"\"sum of all food encounters/time spent walking outside patches\n",
    "    setting encounter rate = 1 if it is always in the food\n",
    "    Checks if fly moves 3cm away from hole and excludes otherwise\"\"\"\n",
    "    with h5py.File(Path, 'a') as f:\n",
    "        if 'x raw' in f.keys() and 'opto x' in f.keys() and f['opto x'][()] is not None and check_if_explorer(Path) is True: # and len(f['opto x'][()]) > 1:\n",
    "            framerate = .01 ##always .01 f/s for big rig camera\n",
    "            \n",
    "            #get foodspot bool\n",
    "            if 'in foodspot bool' in f.keys():\n",
    "                in_foodspot_bool = f['in foodspot bool'][()]\n",
    "            else:\n",
    "                in_foodspot_bool = get_in_foodspot_bool (Path, quiet)\n",
    "            \n",
    "            #need total time in food\n",
    "            total_time_in_foodspot = np.sum(np.any(in_foodspot_bool, axis = 1))*framerate #sum across all times in any foodspot\n",
    "            total_time = len(in_foodspot_bool)*framerate\n",
    "            time_not_on_food = total_time - np.sum(total_time_in_foodspot) #need to sum across foodspots\n",
    "            time_not_on_food = total_time - total_time_in_foodspot #need to sum across foodspots\n",
    "            number_foodspots = len(f['opto x'][()])\n",
    "            encounter_rate = number_foodspots/time_not_on_food\n",
    "            \n",
    "            if time_not_on_food == 0:\n",
    "                encounter_rate = 1\n",
    "            add_to_h5(Path, 'food encounter rate', encounter_rate)\n",
    "        else:\n",
    "            if quiet == 'n':\n",
    "                print(f'no data for this fly')\n",
    "            encounter_rate = None\n",
    "            \n",
    "        return encounter_rate\n",
    "            \n",
    "    "
   ]
  },
  {
   "cell_type": "code",
   "execution_count": 217,
   "metadata": {},
   "outputs": [],
   "source": [
    "def get_speed_during_food (Path, quiet = 'n'):\n",
    "    \"\"\"returns the body speed during foodspot visits\n",
    "    Checks if fly moves 3cm away from hole and excludes otherwise\"\"\"\n",
    "    with h5py.File(Path, 'a') as f:\n",
    "        if 'x raw' in f.keys() and 'opto x' in f.keys() and f['opto x'][()] is not None and check_if_explorer(Path) is True: # and len(f['opto x'][()]) > 1:\n",
    "            #need v\n",
    "            velocity = f['velocity'][()]\n",
    "            \n",
    "            #get foodspot bool\n",
    "            if 'in foodspot bool' in f.keys():\n",
    "                in_foodspot_bool = f['in foodspot bool'][()]\n",
    "            else:\n",
    "                in_foodspot_bool = get_in_foodspot_bool (Path, quiet)\n",
    "                \n",
    "            ##the bool is two longer than the velocity because of velocity calculation (code looks like it truncates last two points)\n",
    "            fly_in_food_speed = np.any(in_foodspot_bool[:-2], axis = 1)*velocity\n",
    "            fly_in_food_speed = fly_in_food_speed[fly_in_food_speed != 0] #false will be 0 so this will get rid of it\n",
    "            \n",
    "        else:\n",
    "            if quiet == 'n':\n",
    "                print(f'no data for this fly')\n",
    "            fly_in_food_speed = None\n",
    "            \n",
    "        return fly_in_food_speed\n",
    "            "
   ]
  },
  {
   "cell_type": "code",
   "execution_count": 218,
   "metadata": {},
   "outputs": [],
   "source": [
    "def get_speed_not_during_food (Path, quiet = 'n'):\n",
    "    \"\"\"returns the body speed excluding foodspot visits\n",
    "    Checks if fly moves 3cm away from hole and excludes otherwise\"\"\"\n",
    "    with h5py.File(Path, 'a') as f:\n",
    "        if 'x raw' in f.keys() and 'opto x' in f.keys() and f['opto x'][()] is not None and check_if_explorer(Path) is True: # and len(f['opto x'][()]) > 1:\n",
    "            #need v\n",
    "            velocity = f['velocity'][()]\n",
    "            \n",
    "            #get foodspot bool\n",
    "            if 'in foodspot bool' in f.keys():\n",
    "                in_foodspot_bool = f['in foodspot bool'][()]\n",
    "            else:\n",
    "                in_foodspot_bool = get_in_foodspot_bool (Path, quiet)\n",
    "                \n",
    "            ##the bool is two longer than the velocity because of velocity calculation (code looks like it truncates last two points)\n",
    "            fly_not_in_food_speed = ~np.any(in_foodspot_bool[:-2], axis = 1)*velocity\n",
    "            fly_not_in_food_speed = fly_not_in_food_speed[fly_not_in_food_speed != 0] #false will be 0 so this will get rid of it\n",
    "            \n",
    "        else:\n",
    "            if quiet == 'n':\n",
    "                print(f'no data for this fly')\n",
    "            fly_not_in_food_speed = None\n",
    "            \n",
    "        return fly_not_in_food_speed"
   ]
  },
  {
   "cell_type": "code",
   "execution_count": 219,
   "metadata": {},
   "outputs": [],
   "source": [
    "def get_angular_speed_during_food (Path, quiet = 'n'):\n",
    "    \"\"\"returns the angular body speed during foodspot visits\n",
    "    Checks if fly moves 3cm away from hole and excludes otherwise\"\"\"\n",
    "    with h5py.File(Path, 'a') as f:\n",
    "        if 'x raw' in f.keys() and 'opto x' in f.keys() and f['opto x'][()] is not None and check_if_explorer(Path) is True: # and len(f['opto x'][()]) > 1:\n",
    "            #need v\n",
    "            ang_velocity = f['angular velocity'][()]\n",
    "            \n",
    "            #get foodspot bool\n",
    "            if 'in foodspot bool' in f.keys():\n",
    "                in_foodspot_bool = f['in foodspot bool'][()]\n",
    "            else:\n",
    "                in_foodspot_bool = get_in_foodspot_bool (Path, quiet)\n",
    "                \n",
    "            ##the bool is two longer than the velocity because of velocity calculation (code looks like it truncates last two points)\n",
    "            fly_in_food_angular_speed = np.any(in_foodspot_bool[:-2], axis = 1)*ang_velocity\n",
    "            fly_in_food_angular_speed = fly_in_food_angular_speed[fly_in_food_angular_speed != 0] #false will be 0 so this will get rid of it\n",
    "            \n",
    "        else:\n",
    "            if quiet == 'n':\n",
    "                print(f'no data for this fly')\n",
    "            fly_in_food_angular_speed = None\n",
    "            \n",
    "        return fly_in_food_angular_speed"
   ]
  },
  {
   "cell_type": "code",
   "execution_count": 220,
   "metadata": {},
   "outputs": [],
   "source": [
    "def get_angular_speed_not_during_food (Path, quiet = 'n'):\n",
    "    \"\"\"returns the angular body speed not during foodspot visits\n",
    "    Checks if fly moves 3cm away from hole and excludes otherwise\"\"\"\n",
    "    with h5py.File(Path, 'a') as f:\n",
    "        if 'x raw' in f.keys() and 'opto x' in f.keys() and f['opto x'][()] is not None and check_if_explorer(Path) is True: # and len(f['opto x'][()]) > 1:\n",
    "            #need v\n",
    "            ang_velocity = f['angular velocity'][()]\n",
    "            \n",
    "            #get foodspot bool\n",
    "            if 'in foodspot bool' in f.keys():\n",
    "                in_foodspot_bool = f['in foodspot bool'][()]\n",
    "            else:\n",
    "                in_foodspot_bool = get_in_foodspot_bool (Path, quiet)\n",
    "                \n",
    "            ##the bool is two longer than the velocity because of velocity calculation (code looks like it truncates last two points)\n",
    "            fly_not_in_food_angular_speed = ~np.any(in_foodspot_bool[:-2], axis = 1)*ang_velocity\n",
    "            fly_not_in_food_angular_speed = fly_in_food_angular_speed[fly_in_food_angular_speed != 0] #false will be 0 so this will get rid of it\n",
    "            \n",
    "        else:\n",
    "            if quiet == 'n':\n",
    "                print(f'no data for this fly')\n",
    "            fly_not_in_food_angular_speed = None\n",
    "            \n",
    "        return fly_not_in_food_angular_speed"
   ]
  },
  {
   "cell_type": "markdown",
   "metadata": {},
   "source": [
    "## currently I'm filtering data by requiring more than one foodspot, but really I should require the fly to move some distance from the hole--fix this later\n"
   ]
  },
  {
   "cell_type": "markdown",
   "metadata": {},
   "source": [
    "## make this function next\n",
    "\n",
    "### when making functions make sure to also add something to save the data in h5 files\n",
    "\n",
    "TO DO: \n",
    "- make \"foraging\" h5 file that has data based on condition + genotype \n",
    "    - i.e. experimental_40s.h5 keys = [total foodspots, time in foodspot, etc.]\n",
    "- make lists of genotype/condition into dictionaries for faster running than looking for trials in lists\n",
    "- plt experiment length"
   ]
  },
  {
   "cell_type": "code",
   "execution_count": 221,
   "metadata": {},
   "outputs": [],
   "source": [
    "##average velocity between spots different bwetween 40 and 20\n",
    "##no spots compute average velocities every 20s or 40s\n",
    "\n",
    "#dispersion metric (shol distances - how far from foodspot depending on 20 or 40s--how much exploration fly does --just do the 20s after foodspot for 40s spots)\n",
    "#could turn shol into velocity by how much explore for unit of time\n",
    "\n",
    "#opto triggered treble (behavior relative to reward --do treble on all trajectories 20s after opto for 40 and 20s)\n",
    "#color data by 20s or 40s\n",
    "   # behavior space dependent exploration"
   ]
  },
  {
   "cell_type": "markdown",
   "metadata": {},
   "source": [
    "## completed functions"
   ]
  },
  {
   "cell_type": "code",
   "execution_count": 222,
   "metadata": {},
   "outputs": [],
   "source": [
    "# #6. body speed during foodspot visits\n",
    "# #7. angular speed during foodspot visits\n",
    "# #9. speed outside foodspots\n",
    "# # same idea as 6,7 but look where bool is false\n",
    "\n",
    "\n",
    "# #look at bool of when the fly is in the foodspot and find the speed (self.v) angular velocity is (self.av)\n",
    "# flies = [Fly(trial, sigma=3) for trial in trials]\n",
    "# all_fly_in_food_speed = []\n",
    "# all_fly_not_in_food_speed = []\n",
    "# all_fly_in_food_av = []\n",
    "# all_fly_not_in_food_av = []\n",
    "# for fly_index in range(len(flies)):\n",
    "#     fly_in_food_speed = [] #so it makes an empty list for flies that don't have opto\n",
    "#     fly_not_in_food_speed = []\n",
    "#     fly_in_food_av = []\n",
    "#     fly_not_in_food_av = []\n",
    "#     if flies[fly_index].optofoodx is not None and len(flies[fly_index].optofoodx) > 0:\n",
    "#         velocity = np.array(flies[fly_index].v)\n",
    "#         ##the bool is two longer than the velocity because of velocity calculation (code looks like it truncates last two points)\n",
    "#         fly_in_food_speed = np.any(all_fly_foodspot_bool[fly_index][:-2], axis = 1)*velocity #code looks like doesn't use last two points\n",
    "#         fly_in_food_speed = fly_in_food_speed[fly_in_food_speed != 0] #false will be 0 so this will get rid of it\n",
    "#         fly_not_in_food_speed = ~np.any(all_fly_foodspot_bool[fly_index][:-2], axis = 1)*velocity\n",
    "#         fly_not_in_food_speed = fly_not_in_food_speed[fly_not_in_food_speed != 0]\n",
    "#         fly_in_food_av = np.any(all_fly_foodspot_bool[fly_index][:-2], axis = 1)*flies[fly_index].av\n",
    "#         fly_in_food_av = fly_in_food_av[fly_in_food_av !=0]\n",
    "#         fly_not_in_food_av = ~np.any(all_fly_foodspot_bool[fly_index][:-2], axis = 1)*flies[fly_index].av\n",
    "#         fly_not_in_food_av = fly_not_in_food_av[fly_not_in_food_av != 0]\n",
    "#         print('food', np.mean(np.abs(fly_in_food_speed)))\n",
    "#         print('no food', np.mean(np.abs(fly_not_in_food_speed)))\n",
    "#         print('food av', np.mean(np.abs(fly_in_food_av)))\n",
    "#         print('no food av', np.mean(np.abs(fly_not_in_food_av)))\n",
    "#     all_fly_in_food_speed.append(fly_in_food_speed)\n",
    "#     all_fly_not_in_food_speed.append(fly_not_in_food_speed)\n",
    "#     all_fly_in_food_av.append(fly_in_food_av)\n",
    "#     all_fly_not_in_food_av.append(fly_not_in_food_av)\n",
    "    \n",
    "\n",
    "# for fly_index in range(len(all_fly_in_food_speed)):\n",
    "#     if len(all_fly_in_food_speed[fly_index])>0:\n",
    "#         plt.scatter(range(len(all_fly_in_food_speed[fly_index])), all_fly_in_food_speed[fly_index])\n",
    "#         plt.scatter(range(len(all_fly_not_in_food_speed[fly_index])), all_fly_not_in_food_speed[fly_index])\n",
    "#         plt.show()\n"
   ]
  },
  {
   "cell_type": "code",
   "execution_count": 223,
   "metadata": {},
   "outputs": [],
   "source": [
    "# #3. rate of food encounters (sum of all food encounters/time spent walking otuside patches)\n",
    "# framerate = .01\n",
    "# all_fly_food_encounter_rate = []\n",
    "# for fly_index in range(len(all_fly_foodspot_bool)):\n",
    "#     if all_fly_foodspot_count[fly_index] > 0:\n",
    "#         fly_in_food_time = np.sum(np.any(all_fly_foodspot_bool[fly_index], axis = 1))\n",
    "#         total_time = len(all_fly_foodspot_bool[fly_index])\n",
    "#         time_not_on_food = (total_time - fly_in_food_time)*framerate\n",
    "#         encounter_rate = all_fly_foodspot_count[fly_index]/time_not_on_food\n",
    "#         all_fly_food_encounter_rate.append(encounter_rate)\n",
    "#     else:\n",
    "#         all_fly_food_encounter_rate.append(0)\n",
    "# print(all_fly_food_encounter_rate)"
   ]
  },
  {
   "cell_type": "code",
   "execution_count": 224,
   "metadata": {},
   "outputs": [],
   "source": [
    "# #4. average duration of foodspot visits (total duration/number of visits) \n",
    "# # not currently stored, but could be\n",
    "# print(np.shape(all_fly_foodspot_time))\n",
    "# print(all_fly_foodspot_time)\n",
    "# all_mean = []\n",
    "# for fly in range(len(all_fly_foodspot_time)):\n",
    "#     if type(all_fly_foodspot_time[fly]) != float and len(all_fly_foodspot_time[fly]) > 0:\n",
    "#         plt.scatter(range(len(all_fly_foodspot_time[fly])), all_fly_foodspot_time[fly])\n",
    "#         mean= np.mean(all_fly_foodspot_time[fly])\n",
    "#         print(mean)\n",
    "#         #plt.scatter(mean)\n",
    "#         all_mean.append(\"{:.2f}\".format(mean))\n",
    "# plt.xlabel(\"foodspot instance\")\n",
    "# plt.ylabel(\"time spent in foodspot (s)\")\n",
    "# plt.title(f\"Time flies spend in each foodspot \\n (some may be the same foodspot the fly returned to) \\n Mean time in foodspots (s): {all_mean}\")"
   ]
  },
  {
   "cell_type": "code",
   "execution_count": 225,
   "metadata": {},
   "outputs": [],
   "source": [
    "# ######   MAKE INIDIVIDUAL LINE PLOTS\n",
    "\n",
    "# #plot lines of trajectories and scatter foodspots\n",
    "# flies = [Fly(trial, sigma=3) for trial in trials]\n",
    "# print(flies[3].x)\n",
    "# for fly_index in range(len(flies)): \n",
    "#     if flies[fly_index].x is not None: \n",
    "#         fig1 = plt.figure()\n",
    "#         fig1 = plt.figure(figsize=(5,5))\n",
    "#         ax1 = fig1.add_subplot(111)\n",
    "# #         plt.xlim(-.6,.6)\n",
    "# #         plt.ylim(-.6,.6)\n",
    "# #         plt.yticks(np.arange(-.6,.6, step = .1))\n",
    "# #         plt.xticks(np.arange(-.6,.6, step = .1))\n",
    "#         plt.xlim(-60,60)\n",
    "#         plt.ylim(-60,60)\n",
    "# #         plt.yticks(np.arange(60,60, step = 10))\n",
    "# #         plt.xticks(np.arange(60,60, step = 10))\n",
    "#         plt.xlabel(\"distance x (cm)\")\n",
    "#         plt.ylabel(\"distance y (cm)\")\n",
    "#         centerx = flies[fly_index].x[0]\n",
    "#         centery = flies[fly_index].y[0]\n",
    "#         plt.plot((flies[fly_index].x - centerx)*100, (flies[fly_index].y-centery)*100, color = 'black', alpha = .5)\n",
    "#         plt.title(str(condition)+ '_' + str(dirNames[fly_index]))\n",
    "#         plt.scatter((flies[fly_index].optofoodx-centerx)*100, (flies[fly_index].optofoody-centery)*100, s = 50, color = 'red', alpha = .5)\n",
    "#         plt.scatter(0, 0, color = 'black')\n",
    "#     fig1.savefig(os.path.join(SavePath, str(genotype)+ '_' + str(condition) + 'fly ' + str(fly_index + 1) + 'PATH.png'))\n",
    "#     plt.show()\n",
    "\n",
    "\n",
    "\n"
   ]
  },
  {
   "cell_type": "code",
   "execution_count": 226,
   "metadata": {},
   "outputs": [],
   "source": [
    "# ## make empty dictionary to store relevant analysis data\n",
    "\n",
    "\n",
    "# foraging_dict = {}\n",
    "\n",
    "\n",
    "# #foraging parameters from https://elifesciences.org/articles/19920\n",
    "\n",
    "# #1. Total duration of visits (2.5mm from center of foodspot)\n",
    "# #2. Number of foodspot visits \n",
    "# #3. rate of food encounters (sum of all food encounters/time spent walking otuside patches) \n",
    "# #4. average duration of foodspot visits (total duration/number of visits)\n",
    "# #5. average minumum distance from foodspot\n",
    "# #6. body speed during yeast visits\n",
    "# #7. angular speed during yeast visits\n",
    "# #8. average distance traveled to next foodspot\n",
    "# #9. speed outside foodspots\n",
    "\n",
    "\n",
    "\n",
    "# #1. total duration of visits\n",
    "# #2. Number of foodspot visits\n",
    "# #I want to know how long the fly stayed within 2.5mm of the foodspot (x,y) (2.5mm is VERY small, maybe I want bigger)\n",
    "# # if location of fly is < x +/-2.5 and < y +/- 2.5 (since x,y is in meters I think I'll try 1cm to start (.01))\n",
    "# # sum the time?\n",
    "# # ignore if the foodspot goes away or not for now. (just asking are they in the area)\n",
    "# foodspot_radius = .005 #.01 is 1cm\n",
    "# flies = [Fly(trial, sigma=3) for trial in trials]\n",
    "# print(len(flies))\n",
    "# all_fly_foodspot_time = []\n",
    "# all_fly_foodspot_count = []\n",
    "# all_fly_foodspot_bool = []\n",
    "# all_fly_foodspot_avg_dist = []\n",
    "# all_min_distance = []\n",
    "# all_avg_min_distance = []\n",
    "# for fly_index in range(len(flies)):  \n",
    "#     all_foodspot_time = []\n",
    "#     #foodspot_bool = []\n",
    "#     if flies[fly_index].optofoodx is not None and len(flies[fly_index].optofoodx) > 0:\n",
    "#         flyx = np.array(flies[fly_index].x)\n",
    "#         flyy = np.array(flies[fly_index].y)\n",
    "#         optox = np.array(flies[fly_index].optofoodx)\n",
    "#         optoy = np.array(flies[fly_index].optofoody)\n",
    "#         distance_matrix = np.sqrt(\n",
    "#             (flyx[:, np.newaxis] - optox[np.newaxis, :]) ** 2 +\n",
    "#             (flyy[:, np.newaxis] - optoy[np.newaxis, :]) ** 2\n",
    "#         )\n",
    "#         in_foodspot_bool = distance_matrix < foodspot_radius\n",
    "#         ## time between x is .01s (framerate)\n",
    "#         total_time_in_foodspot = np.sum(in_foodspot_bool, axis=0)*.01\n",
    "#         #all_foodspot_time.append(total_time_in_foodspot)\n",
    "#         print(distance_matrix)\n",
    "#         min_distance = np.min(distance_matrix, axis=1)\n",
    "#         all_fly_foodspot_avg_dist.append(min_distance.mean())\n",
    "# #         for opto_index in range(len(flies[fly_index].optofoodx)):\n",
    "# #             optox = flies[fly_index].optofoodx[opto_index]\n",
    "# #             optoy = flies[fly_index].optofoody[opto_index]\n",
    "# #             #how do I do this for each point without it taking forever? \n",
    "# #             #also how do i get the times? Do I want total time or consectutive time (fly not allowed to leave and come back)\n",
    "# #             #I know it takes x,y at specific framerate so I can use that for time\n",
    "# #             #I think total time in vicinity to start and then consecutive time (a per bout time)\n",
    "# #             #maybe I can look for when it is bigger and then smaller than this equation? and get those index points\n",
    "# #             #possibly filter first by looking for points less than square aroud foodspot just in x then do equation on those points?\n",
    "# #             distance_from_foodspot = np.sqrt((flyx - optox) ** 2 + (flyy - optoy) **2 )\n",
    "# #             #make boolean if value is < foodspot radius\n",
    "# #             in_foodspot_bool = distance_from_foodspot < foodspot_radius\n",
    "# #             ## time between x is .01s (framerate)\n",
    "# #             total_time_in_foodspot = np.sum(in_foodspot_bool)*.01\n",
    "# #             all_foodspot_time.append(total_time_in_foodspot)\n",
    "#         total_foodspots = len(flies[fly_index].optofoodx)\n",
    "#         #foodspot_bool.append(in_foodspot_bool)\n",
    "#     else:\n",
    "#         #all_foodspot_time.append(np.nan)\n",
    "#         total_time_in_foodspot = np.nan\n",
    "#         total_foodspots = 0\n",
    "#         min_distance = np.nan\n",
    "#         in_foodspot_bool = []\n",
    "        \n",
    "#     #all_fly_foodspot_time.append(all_foodspot_time)\n",
    "#     all_fly_foodspot_time.append(total_time_in_foodspot)\n",
    "#     all_fly_foodspot_count.append(total_foodspots)\n",
    "#     all_fly_foodspot_bool.append(in_foodspot_bool)\n",
    "#     all_min_distance.append(min_distance)\n",
    "#     all_avg_min_distance.append(all_fly_foodspot_avg_dist)\n",
    "    \n",
    "    "
   ]
  },
  {
   "cell_type": "code",
   "execution_count": 227,
   "metadata": {},
   "outputs": [],
   "source": [
    "# for i in range(len(all_fly_foodspot_bool)):\n",
    "#     if all_fly_foodspot_count[i] > 0:\n",
    "#         print(np.shape(all_fly_foodspot_bool[i]))\n",
    "#         print(len(all_fly_foodspot_bool[i]))\n",
    "#         #for each time point is there a true?\n",
    "#         #for timepoint_index, foodspot_index in np.shape(all_fly_foodspot_bool[i]):\n",
    "# #         for timepoint_index in range(len(all_fly_foodspot_bool[i])):  \n",
    "# #             if np.sum(np.sum(all_fly_foodspot_bool[i][timepoint_index])) > 0: #considered in multiple foodspots at the same time...\n",
    "# #                 #print(np.sum(np.sum(all_fly_foodspot_bool[i][timepoint_index])))\n",
    "# #                 #print(timepoint_index)\n",
    "#         print('food time', np.sum(np.any(all_fly_foodspot_bool[i], axis = 1)))  #this will give the number of timepoints where the fly is in at least 1 foodspot\n",
    "# #         plt.imshow(all_fly_foodspot_bool[i][5250:5360], cmap = 'gray')\n",
    "# #         plt.show()\n",
    "# #         print('sum', (np.sum(all_fly_foodspot_bool[i], axis = 0)))\n",
    "# #         print(all_fly_foodspot_bool[i])\n",
    "        \n",
    "# ##I could look for every opto column how many TRUE or filter if ture in only one column"
   ]
  },
  {
   "cell_type": "markdown",
   "metadata": {},
   "source": [
    "## to be functioned"
   ]
  },
  {
   "cell_type": "code",
   "execution_count": 228,
   "metadata": {},
   "outputs": [],
   "source": [
    "# ##are any foodspots within foodspot radius apart?\n",
    "\n",
    "# flies = [Fly(trial, sigma=3) for trial in trials]\n",
    "# all_fly_foodspot_distances_matrix = []\n",
    "# for fly_index in range(len(flies)):  \n",
    "#     distances_matrix = []\n",
    "#     if flies[fly_index].optofoodx is not None and len(flies[fly_index].optofoodx) > 0:\n",
    "#         flyx = np.array(flies[fly_index].x)\n",
    "#         flyy = np.array(flies[fly_index].y)\n",
    "#         optox = np.array(flies[fly_index].optofoodx)\n",
    "#         optoy = np.array(flies[fly_index].optofoody)\n",
    "        \n",
    "#         for opto_index in range(len(flies[fly_index].optofoodx)):\n",
    "#             current_optox = flies[fly_index].optofoodx[opto_index]\n",
    "#             current_optoy = flies[fly_index].optofoody[opto_index]\n",
    "#             distances = np.sqrt((current_optox - optox)**2 + (current_optoy - optoy)**2)\n",
    "#             distances_matrix.append(distances)\n",
    "#     all_fly_foodspot_distances_matrix.append(distances_matrix)"
   ]
  },
  {
   "cell_type": "code",
   "execution_count": 229,
   "metadata": {},
   "outputs": [],
   "source": [
    "# #5. average minumum distance from foodspot\n",
    "\n",
    "# #I want the distance to be an array time rows and foodspot columns per fly \n",
    "# #then I can look at each row and find minumum and store it and then average across time\n",
    "# ## need to change previous bit to look at distance in matrix form\n",
    "# #done in previous cell with new matrix!\n",
    "\n",
    "# print(all_min_distance)  #if no opto encountered then it will be nan\n",
    "\n",
    "# for fly_index in range(len(all_min_distance)):\n",
    "#     if type(all_min_distance[fly_index]) is not float:\n",
    "#         plt.scatter(range(len(all_min_distance[fly_index])), all_min_distance[fly_index])\n",
    "# plt.ylabel(\"distance(m)\")\n",
    "# plt.show()\n",
    "# for fly_index in range(len(all_min_distance)):\n",
    "#     if type(all_min_distance[fly_index]) is not float:\n",
    "#         yerr = np.std(all_min_distance[fly_index])\n",
    "#         plt.errorbar(fly_index, np.mean(all_min_distance[fly_index]), yerr = yerr, color = 'black')\n",
    "#         plt.bar(fly_index, np.mean(all_min_distance[fly_index]))\n",
    "# plt.title(\"mean minimum distance from foodspot at every location point, error = std\")\n",
    "# plt.ylabel(\"distance (m)\")\n",
    "# plt.show()"
   ]
  },
  {
   "cell_type": "code",
   "execution_count": 230,
   "metadata": {},
   "outputs": [],
   "source": [
    "# 10. total experimental time! (esp good for no opto comparison)\n",
    "# 11. average velocity generally\n",
    "# 12. average angular velocity generally\n",
    "# 13. furthest distance from center"
   ]
  }
 ],
 "metadata": {
  "kernelspec": {
   "display_name": "Python 3 (ipykernel)",
   "language": "python",
   "name": "python3"
  },
  "language_info": {
   "codemirror_mode": {
    "name": "ipython",
    "version": 3
   },
   "file_extension": ".py",
   "mimetype": "text/x-python",
   "name": "python",
   "nbconvert_exporter": "python",
   "pygments_lexer": "ipython3",
   "version": "3.7.5"
  }
 },
 "nbformat": 4,
 "nbformat_minor": 2
}
